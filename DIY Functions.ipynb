{
 "cells": [
  {
   "cell_type": "code",
   "execution_count": 7,
   "id": "887b4019-a15d-4765-9764-e2852312c43b",
   "metadata": {},
   "outputs": [],
   "source": [
    "text = \"the quick brown fox jumps over the lazy dog.\""
   ]
  },
  {
   "cell_type": "code",
   "execution_count": 11,
   "id": "422300db-b254-4674-a9f3-8fbbc6905df6",
   "metadata": {},
   "outputs": [
    {
     "data": {
      "text/plain": [
       "'the quick brown fox jumps over the lazy dog.'"
      ]
     },
     "execution_count": 11,
     "metadata": {},
     "output_type": "execute_result"
    }
   ],
   "source": [
    "text"
   ]
  },
  {
   "cell_type": "markdown",
   "id": "0ee1e660-64bf-45be-91c3-42cb9335dfe9",
   "metadata": {},
   "source": [
    "## <b/> String Capitalization"
   ]
  },
  {
   "cell_type": "code",
   "execution_count": 9,
   "id": "b0a0fb20-54c0-4c59-9e19-59e53190cfb6",
   "metadata": {},
   "outputs": [
    {
     "data": {
      "text/plain": [
       "'The quick brown fox jumps over the lazy dog.'"
      ]
     },
     "execution_count": 9,
     "metadata": {},
     "output_type": "execute_result"
    }
   ],
   "source": [
    "text.capitalize()"
   ]
  },
  {
   "cell_type": "code",
   "execution_count": 14,
   "id": "65d15bba-b531-4944-a5e8-17ea9d7ef633",
   "metadata": {},
   "outputs": [
    {
     "data": {
      "text/plain": [
       "'The quick brown fox jumps over the lazy dog.'"
      ]
     },
     "execution_count": 14,
     "metadata": {},
     "output_type": "execute_result"
    }
   ],
   "source": [
    "text[0].upper() + text[1:].lower()"
   ]
  },
  {
   "cell_type": "code",
   "execution_count": 16,
   "id": "777d2653-9401-4db3-9e41-f1ff376aab30",
   "metadata": {},
   "outputs": [
    {
     "data": {
      "text/plain": [
       "True"
      ]
     },
     "execution_count": 16,
     "metadata": {},
     "output_type": "execute_result"
    }
   ],
   "source": [
    "text.capitalize() == text[0].upper() + text[1:].lower()"
   ]
  },
  {
   "cell_type": "code",
   "execution_count": 19,
   "id": "3c4f2f30-2e06-4006-a891-bc99aa2d468d",
   "metadata": {},
   "outputs": [],
   "source": [
    "def cap(text):\n",
    "    if len(text) != 0:\n",
    "        return text[0].upper() + text[1:].lower()\n",
    "    else:\n",
    "        return None"
   ]
  },
  {
   "cell_type": "code",
   "execution_count": 20,
   "id": "749a6bf0-e3f3-42a3-b1b1-651c77364f66",
   "metadata": {},
   "outputs": [
    {
     "data": {
      "text/plain": [
       "'Give me money.'"
      ]
     },
     "execution_count": 20,
     "metadata": {},
     "output_type": "execute_result"
    }
   ],
   "source": [
    "cap(\"give me money.\")"
   ]
  },
  {
   "cell_type": "markdown",
   "id": "a950bd8b-aa19-4936-a266-fc6944af586e",
   "metadata": {},
   "source": [
    "## <b/>Upper and Lower"
   ]
  },
  {
   "cell_type": "code",
   "execution_count": 24,
   "id": "a8103c1e-516c-40cf-8bb7-bba4d81a500b",
   "metadata": {},
   "outputs": [
    {
     "data": {
      "text/plain": [
       "'THE QUICK BROWN FOX JUMPS OVER THE LAZY DOG.'"
      ]
     },
     "execution_count": 24,
     "metadata": {},
     "output_type": "execute_result"
    }
   ],
   "source": [
    "text.upper()"
   ]
  },
  {
   "cell_type": "code",
   "execution_count": 22,
   "id": "ba3106fa-c50d-429a-aede-55c36126e315",
   "metadata": {},
   "outputs": [
    {
     "data": {
      "text/plain": [
       "'the quick brown fox jumps over the lazy dog.'"
      ]
     },
     "execution_count": 22,
     "metadata": {},
     "output_type": "execute_result"
    }
   ],
   "source": [
    "text.lower()"
   ]
  },
  {
   "cell_type": "code",
   "execution_count": 62,
   "id": "a126aa83-df48-451b-a578-1646e960b9d0",
   "metadata": {},
   "outputs": [],
   "source": [
    "# Custom functions \n",
    "def uppercase(text):\n",
    "    txt = \"\"\n",
    "    for i in text:\n",
    "        if (ord(i)>=97 and ord(i)<=122):\n",
    "            txt += chr(ord(i) - 32)\n",
    "        else:\n",
    "            txt += i\n",
    "    return txt\n",
    "\n",
    "def lowercase(text):\n",
    "    txt = \"\"\n",
    "    for i in text:\n",
    "        if (ord(i)>=65 and ord(i)<=90):\n",
    "            txt += chr(ord(i) + 32)\n",
    "        else:\n",
    "            txt += i\n",
    "    return txt"
   ]
  },
  {
   "cell_type": "code",
   "execution_count": 63,
   "id": "ac7b3d68-8720-41b8-b648-d02f1506e0b1",
   "metadata": {},
   "outputs": [
    {
     "data": {
      "text/plain": [
       "'HELLO, HOW ARE YOU?'"
      ]
     },
     "execution_count": 63,
     "metadata": {},
     "output_type": "execute_result"
    }
   ],
   "source": [
    "uppercase(\"hello, how are you?\")"
   ]
  },
  {
   "cell_type": "code",
   "execution_count": 64,
   "id": "9d914706-5cb5-4dcf-bdad-1039d8c9e030",
   "metadata": {},
   "outputs": [
    {
     "data": {
      "text/plain": [
       "'hello, how are you?'"
      ]
     },
     "execution_count": 64,
     "metadata": {},
     "output_type": "execute_result"
    }
   ],
   "source": [
    "lowercase('HELLO, HOW ARE YOU?')"
   ]
  },
  {
   "cell_type": "markdown",
   "id": "b7627fad-0ada-454f-808c-7f21a66c3ea8",
   "metadata": {},
   "source": [
    "## <b/>Checking String DataTypes"
   ]
  },
  {
   "cell_type": "markdown",
   "id": "6899ffa4-ba68-4378-9959-e2d34d66ad02",
   "metadata": {},
   "source": [
    "### 1. isalpha()"
   ]
  },
  {
   "cell_type": "code",
   "execution_count": 67,
   "id": "3b56c443-e85b-4f4a-a2fd-32222032dace",
   "metadata": {},
   "outputs": [
    {
     "data": {
      "text/plain": [
       "True"
      ]
     },
     "execution_count": 67,
     "metadata": {},
     "output_type": "execute_result"
    }
   ],
   "source": [
    "'a'.isalpha()"
   ]
  },
  {
   "cell_type": "code",
   "execution_count": 66,
   "id": "6d813fe5-c3c9-47b0-aded-f9f70d33573a",
   "metadata": {},
   "outputs": [
    {
     "data": {
      "text/plain": [
       "True"
      ]
     },
     "execution_count": 66,
     "metadata": {},
     "output_type": "execute_result"
    }
   ],
   "source": [
    "'Ankush'.isalpha()"
   ]
  },
  {
   "cell_type": "code",
   "execution_count": 68,
   "id": "cc606d21-d676-4b58-b2b3-1e5f7f326837",
   "metadata": {},
   "outputs": [],
   "source": [
    "def isalpha(text):\n",
    "    c = 0\n",
    "    for i in text:\n",
    "        if (ord(i)>=65 and ord(i)<=90) or (ord(i)>=97 and ord(i)<=122):\n",
    "            c += 1\n",
    "    if len(text) == c:\n",
    "        return True\n",
    "    else:\n",
    "        return False"
   ]
  },
  {
   "cell_type": "code",
   "execution_count": 69,
   "id": "22f7a095-af36-443c-87a1-3c190185c27a",
   "metadata": {},
   "outputs": [
    {
     "data": {
      "text/plain": [
       "True"
      ]
     },
     "execution_count": 69,
     "metadata": {},
     "output_type": "execute_result"
    }
   ],
   "source": [
    "isalpha('Ankush')"
   ]
  },
  {
   "cell_type": "code",
   "execution_count": 70,
   "id": "71d077e9-5680-4e98-829f-460684c5e706",
   "metadata": {},
   "outputs": [
    {
     "data": {
      "text/plain": [
       "False"
      ]
     },
     "execution_count": 70,
     "metadata": {},
     "output_type": "execute_result"
    }
   ],
   "source": [
    "isalpha('Ankush511')"
   ]
  },
  {
   "cell_type": "markdown",
   "id": "83d85c45-4eb5-48d6-9ab5-60e2511e6c2b",
   "metadata": {},
   "source": [
    "### 2. isdigit()"
   ]
  },
  {
   "cell_type": "code",
   "execution_count": 74,
   "id": "d7e0931c-d7d1-4bde-8999-260e7a83b685",
   "metadata": {},
   "outputs": [],
   "source": [
    "def isdigit(num):\n",
    "    c = 0\n",
    "    for i in num:\n",
    "        if (ord(i)>=48 and ord(i)<=57):\n",
    "            c += 1\n",
    "    if len(num) == c:\n",
    "        return True\n",
    "    else:\n",
    "        return False"
   ]
  },
  {
   "cell_type": "code",
   "execution_count": 84,
   "id": "882d1308-802d-4120-99fa-313c09d91f44",
   "metadata": {},
   "outputs": [
    {
     "data": {
      "text/plain": [
       "True"
      ]
     },
     "execution_count": 84,
     "metadata": {},
     "output_type": "execute_result"
    }
   ],
   "source": [
    "isdigit('511')"
   ]
  },
  {
   "cell_type": "code",
   "execution_count": 85,
   "id": "4a028dee-8813-44e7-b271-0bc24f68284c",
   "metadata": {},
   "outputs": [
    {
     "data": {
      "text/plain": [
       "True"
      ]
     },
     "execution_count": 85,
     "metadata": {},
     "output_type": "execute_result"
    }
   ],
   "source": [
    "'511'.isdigit()"
   ]
  },
  {
   "cell_type": "markdown",
   "id": "e3cda435-b41b-4f3c-9288-55c8f7248963",
   "metadata": {},
   "source": [
    "### 3. isalnum()"
   ]
  },
  {
   "cell_type": "code",
   "execution_count": 77,
   "id": "6b766f35-5c0f-406a-bf70-ca80b60a8576",
   "metadata": {},
   "outputs": [],
   "source": [
    "def isalnum(text):\n",
    "    c = 0\n",
    "    for i in text:\n",
    "        if (ord(i)>=65 and ord(i)<=90) or (ord(i)>=97 and ord(i)<=122) or (ord(i)>=48 and ord(i)<=57):\n",
    "            c += 1\n",
    "    if len(text) == c:\n",
    "        return True\n",
    "    else:\n",
    "        return False"
   ]
  },
  {
   "cell_type": "code",
   "execution_count": 78,
   "id": "592d50a3-045f-421e-9d73-9574405a5e5c",
   "metadata": {},
   "outputs": [
    {
     "data": {
      "text/plain": [
       "True"
      ]
     },
     "execution_count": 78,
     "metadata": {},
     "output_type": "execute_result"
    }
   ],
   "source": [
    "isalnum('Ankush511')"
   ]
  },
  {
   "cell_type": "code",
   "execution_count": 81,
   "id": "8ca86b85-9e38-4d5a-86d7-4c68f0a19e45",
   "metadata": {},
   "outputs": [
    {
     "data": {
      "text/plain": [
       "True"
      ]
     },
     "execution_count": 81,
     "metadata": {},
     "output_type": "execute_result"
    }
   ],
   "source": [
    "'Ankush511'.isalnum()"
   ]
  },
  {
   "cell_type": "markdown",
   "id": "73b2e6a3-bc27-498a-8d16-dd17b358a8a7",
   "metadata": {},
   "source": [
    "## <b/>Title "
   ]
  },
  {
   "cell_type": "code",
   "execution_count": 86,
   "id": "08a287e4-1d2b-4707-85fc-c996fd94af9f",
   "metadata": {},
   "outputs": [
    {
     "data": {
      "text/plain": [
       "'the quick brown fox jumps over the lazy dog.'"
      ]
     },
     "execution_count": 86,
     "metadata": {},
     "output_type": "execute_result"
    }
   ],
   "source": [
    "text"
   ]
  },
  {
   "cell_type": "code",
   "execution_count": 87,
   "id": "14b29d72-275e-4396-8a8b-42bbc9882388",
   "metadata": {},
   "outputs": [
    {
     "data": {
      "text/plain": [
       "'The Quick Brown Fox Jumps Over The Lazy Dog.'"
      ]
     },
     "execution_count": 87,
     "metadata": {},
     "output_type": "execute_result"
    }
   ],
   "source": [
    "text.title()"
   ]
  },
  {
   "cell_type": "code",
   "execution_count": 100,
   "id": "76098d7e-1ad4-4c53-89de-970d84fe3c3e",
   "metadata": {},
   "outputs": [],
   "source": [
    "def title(text):\n",
    "    str = []\n",
    "    for word in text.split(' '):\n",
    "        str.append(word[0].upper() + word[1:].lower())\n",
    "\n",
    "    str = ' '.join(str)\n",
    "    return str"
   ]
  },
  {
   "cell_type": "code",
   "execution_count": 101,
   "id": "b432cc8c-4d34-45c9-b501-f67989f2599c",
   "metadata": {},
   "outputs": [
    {
     "data": {
      "text/plain": [
       "'The Quick Brown Fox Jumps Over The Lazy Dog.'"
      ]
     },
     "execution_count": 101,
     "metadata": {},
     "output_type": "execute_result"
    }
   ],
   "source": [
    "title('the quick brown fox jumps over the lazy dog.')"
   ]
  },
  {
   "cell_type": "code",
   "execution_count": null,
   "id": "ec617ebb-bf29-4b75-a853-48ba293418ed",
   "metadata": {},
   "outputs": [],
   "source": []
  }
 ],
 "metadata": {
  "kernelspec": {
   "display_name": "Python 3 (ipykernel)",
   "language": "python",
   "name": "python3"
  },
  "language_info": {
   "codemirror_mode": {
    "name": "ipython",
    "version": 3
   },
   "file_extension": ".py",
   "mimetype": "text/x-python",
   "name": "python",
   "nbconvert_exporter": "python",
   "pygments_lexer": "ipython3",
   "version": "3.11.8"
  }
 },
 "nbformat": 4,
 "nbformat_minor": 5
}
