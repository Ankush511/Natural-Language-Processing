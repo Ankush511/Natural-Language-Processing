{
 "cells": [
  {
   "cell_type": "code",
   "execution_count": 1,
   "id": "c111ce18-541a-4adf-8ec1-58d68d9f6ee7",
   "metadata": {},
   "outputs": [],
   "source": [
    "import pandas as pd\n",
    "\n",
    "from nltk.corpus import stopwords\n",
    "from nltk.tokenize import word_tokenize, sent_tokenize\n",
    "\n",
    "\n",
    "corpus_1 = 'India, officially the Republic of India, is a country in South Asia. It is the seventh-largest country by area, the second-most populous country, and the most populous democracy in the world. Bounded by the Indian Ocean on the south, the Arabian Sea on the southwest, and the Bay of Bengal on the southeast, it shares land borders with Pakistan to the west; China, Nepal, and Bhutan to the north; and Bangladesh and Myanmar to the east. In the Indian Ocean, India is in the vicinity of Sri Lanka and the Maldives; its Andaman and Nicobar Islands share a maritime border with Thailand, Myanmar and Indonesia.'\n",
    "corpus_2 = 'The Voyager program is an American scientific program that employs two robotic interstellar probes, Voyager I and Voyager II. They were launched in 1977 to take advantage of a favorable alignment of Jupiter and Saturn, to fly near them while collecting data for transmission back to Earth. After launch the decision was taken to send Voyager II near Uranus and Neptune to collect data for transmission back to Earth'\n",
    "corpus_3 = 'A black hole is a region of spacetime where gravity is so strong that nothing — no particles or even electromagnetic radiation such as light — can escape from it. The theory of general relativity predicts that a sufficiently compact mass can deform spacetime to form a black hole. The boundary of no escape is called the event horizon. Although it has an enormous effect on the fate and circumstances of an object crossing it, it has no locally detectable features according to general relativity. In many ways, a black hole acts like an ideal black body, as it reflects no light. Moreover, quantum field theory in curved spacetime predicts that event horizons emit Hawking radiation, with the same spectrum as a black body of a temperature inversely proportional to its mass. This temperature is of the order of billionths of a kelvin for stellar black holes, making it essentially impossible to observe directly.'\n",
    "corpus_4 = \"Hawking scientific works included a collaboration with Roger Penrose on gravitational singularity theorems in the framework of general relativity, and the theoretical prediction that black holes emit radiation, often called Hawking radiation. Initially, Hawking radiation was controversial. By the late 1970s and following the publication of further research, the discovery was widely accepted as a major breakthrough in theoretical physics. Hawking was the first to set out a theory of cosmology explained by a union of the general theory of relativity and quantum mechanics. He was a vigorous supporter of the many-worlds interpretation of quantum mechanics.\""
   ]
  },
  {
   "cell_type": "markdown",
   "id": "92fb425d-72f9-4476-9614-b10b1283e143",
   "metadata": {},
   "source": [
    "## <b/> Remove Stopwords and Creating Vocab"
   ]
  },
  {
   "cell_type": "code",
   "execution_count": 6,
   "id": "6dba63fd-553a-4144-a703-ae56fe631587",
   "metadata": {},
   "outputs": [],
   "source": [
    "words = []\n",
    "\n",
    "for word in word_tokenize(corpus_1):\n",
    "    if(word.lower() not in stopwords.words('english')) and (len(word) >= 2):\n",
    "        words.append(word.lower())\n",
    "\n",
    "vocab = list(set(words))"
   ]
  },
  {
   "cell_type": "markdown",
   "id": "70eab758-c141-4d04-ad9a-1dcdf29663d1",
   "metadata": {},
   "source": [
    "## <b/> Creating Count Dictionary"
   ]
  },
  {
   "cell_type": "code",
   "execution_count": 7,
   "id": "0e4980c9-9926-4ded-988c-2858579a4cda",
   "metadata": {},
   "outputs": [],
   "source": [
    "word_freq = {}\n",
    "\n",
    "for word in vocab:\n",
    "    word_freq[word] = 0"
   ]
  },
  {
   "cell_type": "markdown",
   "id": "882a537d-d2bd-4dc2-9f3c-00ea382a8a7c",
   "metadata": {},
   "source": [
    "## <b/> Count the Frequency of Words"
   ]
  },
  {
   "cell_type": "code",
   "execution_count": 9,
   "id": "41c73e56-597b-4c2e-8765-74850a391146",
   "metadata": {},
   "outputs": [],
   "source": [
    "for word in words:\n",
    "    word_freq[word] = word_freq[word] + 1"
   ]
  },
  {
   "cell_type": "code",
   "execution_count": 10,
   "id": "860c4e32-5da1-4306-b7bb-1e9927e32e4a",
   "metadata": {},
   "outputs": [],
   "source": [
    "data = []\n",
    "\n",
    "for key in word_freq.keys():\n",
    "    data.append([key, word_freq[key]])"
   ]
  },
  {
   "cell_type": "code",
   "execution_count": 11,
   "id": "a0b24ef0-582c-4f2f-afe0-8f2ba1787598",
   "metadata": {
    "scrolled": true
   },
   "outputs": [
    {
     "data": {
      "text/plain": [
       "[['ocean', 2],\n",
       " ['area', 1],\n",
       " ['east', 1],\n",
       " ['republic', 1],\n",
       " ['bhutan', 1],\n",
       " ['asia', 1],\n",
       " ['maldives', 1],\n",
       " ['india', 3],\n",
       " ['sea', 1],\n",
       " ['nepal', 1],\n",
       " ['populous', 2],\n",
       " ['land', 1],\n",
       " ['indian', 2],\n",
       " ['democracy', 1],\n",
       " ['bengal', 1],\n",
       " ['indonesia', 1],\n",
       " ['china', 1],\n",
       " ['arabian', 1],\n",
       " ['borders', 1],\n",
       " ['south', 2],\n",
       " ['share', 1],\n",
       " ['islands', 1],\n",
       " ['southeast', 1],\n",
       " ['west', 1],\n",
       " ['lanka', 1],\n",
       " ['seventh-largest', 1],\n",
       " ['border', 1],\n",
       " ['southwest', 1],\n",
       " ['andaman', 1],\n",
       " ['maritime', 1],\n",
       " ['pakistan', 1],\n",
       " ['officially', 1],\n",
       " ['world', 1],\n",
       " ['bay', 1],\n",
       " ['sri', 1],\n",
       " ['thailand', 1],\n",
       " ['shares', 1],\n",
       " ['north', 1],\n",
       " ['country', 3],\n",
       " ['bangladesh', 1],\n",
       " ['vicinity', 1],\n",
       " ['nicobar', 1],\n",
       " ['second-most', 1],\n",
       " ['myanmar', 2],\n",
       " ['bounded', 1]]"
      ]
     },
     "execution_count": 11,
     "metadata": {},
     "output_type": "execute_result"
    }
   ],
   "source": [
    "data"
   ]
  },
  {
   "cell_type": "markdown",
   "id": "037733a9-1259-4b43-9ea0-12f2bbd777e9",
   "metadata": {},
   "source": [
    "## <b/> Creating DataFrame for Sorting Values"
   ]
  },
  {
   "cell_type": "code",
   "execution_count": 12,
   "id": "15232592-2a6f-4ed2-b2f9-ee7b29000fda",
   "metadata": {},
   "outputs": [],
   "source": [
    "df = pd.DataFrame(data, columns=['word','freq'])"
   ]
  },
  {
   "cell_type": "code",
   "execution_count": 13,
   "id": "94911992-414b-4a00-9d0a-62c49a6f102d",
   "metadata": {},
   "outputs": [
    {
     "data": {
      "text/html": [
       "<div>\n",
       "<style scoped>\n",
       "    .dataframe tbody tr th:only-of-type {\n",
       "        vertical-align: middle;\n",
       "    }\n",
       "\n",
       "    .dataframe tbody tr th {\n",
       "        vertical-align: top;\n",
       "    }\n",
       "\n",
       "    .dataframe thead th {\n",
       "        text-align: right;\n",
       "    }\n",
       "</style>\n",
       "<table border=\"1\" class=\"dataframe\">\n",
       "  <thead>\n",
       "    <tr style=\"text-align: right;\">\n",
       "      <th></th>\n",
       "      <th>word</th>\n",
       "      <th>freq</th>\n",
       "    </tr>\n",
       "  </thead>\n",
       "  <tbody>\n",
       "    <tr>\n",
       "      <th>0</th>\n",
       "      <td>ocean</td>\n",
       "      <td>2</td>\n",
       "    </tr>\n",
       "    <tr>\n",
       "      <th>1</th>\n",
       "      <td>area</td>\n",
       "      <td>1</td>\n",
       "    </tr>\n",
       "    <tr>\n",
       "      <th>2</th>\n",
       "      <td>east</td>\n",
       "      <td>1</td>\n",
       "    </tr>\n",
       "    <tr>\n",
       "      <th>3</th>\n",
       "      <td>republic</td>\n",
       "      <td>1</td>\n",
       "    </tr>\n",
       "    <tr>\n",
       "      <th>4</th>\n",
       "      <td>bhutan</td>\n",
       "      <td>1</td>\n",
       "    </tr>\n",
       "  </tbody>\n",
       "</table>\n",
       "</div>"
      ],
      "text/plain": [
       "       word  freq\n",
       "0     ocean     2\n",
       "1      area     1\n",
       "2      east     1\n",
       "3  republic     1\n",
       "4    bhutan     1"
      ]
     },
     "execution_count": 13,
     "metadata": {},
     "output_type": "execute_result"
    }
   ],
   "source": [
    "df.head()"
   ]
  },
  {
   "cell_type": "code",
   "execution_count": 15,
   "id": "d44214b1-8851-4e3e-97e7-b98735f85e02",
   "metadata": {
    "scrolled": true
   },
   "outputs": [
    {
     "data": {
      "text/html": [
       "<div>\n",
       "<style scoped>\n",
       "    .dataframe tbody tr th:only-of-type {\n",
       "        vertical-align: middle;\n",
       "    }\n",
       "\n",
       "    .dataframe tbody tr th {\n",
       "        vertical-align: top;\n",
       "    }\n",
       "\n",
       "    .dataframe thead th {\n",
       "        text-align: right;\n",
       "    }\n",
       "</style>\n",
       "<table border=\"1\" class=\"dataframe\">\n",
       "  <thead>\n",
       "    <tr style=\"text-align: right;\">\n",
       "      <th></th>\n",
       "      <th>word</th>\n",
       "      <th>freq</th>\n",
       "    </tr>\n",
       "  </thead>\n",
       "  <tbody>\n",
       "    <tr>\n",
       "      <th>7</th>\n",
       "      <td>india</td>\n",
       "      <td>3</td>\n",
       "    </tr>\n",
       "    <tr>\n",
       "      <th>38</th>\n",
       "      <td>country</td>\n",
       "      <td>3</td>\n",
       "    </tr>\n",
       "    <tr>\n",
       "      <th>0</th>\n",
       "      <td>ocean</td>\n",
       "      <td>2</td>\n",
       "    </tr>\n",
       "  </tbody>\n",
       "</table>\n",
       "</div>"
      ],
      "text/plain": [
       "       word  freq\n",
       "7     india     3\n",
       "38  country     3\n",
       "0     ocean     2"
      ]
     },
     "execution_count": 15,
     "metadata": {},
     "output_type": "execute_result"
    }
   ],
   "source": [
    "df.sort_values(by='freq', ascending=False).head(3)"
   ]
  },
  {
   "cell_type": "code",
   "execution_count": null,
   "id": "b09c2e27-68e3-47f7-9c7f-9739be137a6a",
   "metadata": {},
   "outputs": [],
   "source": []
  }
 ],
 "metadata": {
  "kernelspec": {
   "display_name": "Python 3 (ipykernel)",
   "language": "python",
   "name": "python3"
  },
  "language_info": {
   "codemirror_mode": {
    "name": "ipython",
    "version": 3
   },
   "file_extension": ".py",
   "mimetype": "text/x-python",
   "name": "python",
   "nbconvert_exporter": "python",
   "pygments_lexer": "ipython3",
   "version": "3.11.8"
  }
 },
 "nbformat": 4,
 "nbformat_minor": 5
}
