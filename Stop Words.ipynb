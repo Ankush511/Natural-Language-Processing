{
 "cells": [
  {
   "cell_type": "code",
   "execution_count": 11,
   "id": "16fab274-bce2-490d-8387-1489605a6d56",
   "metadata": {},
   "outputs": [],
   "source": [
    "import nltk\n",
    "from nltk.corpus import stopwords\n",
    "from nltk.tokenize import word_tokenize"
   ]
  },
  {
   "cell_type": "code",
   "execution_count": 12,
   "id": "7dace91d-835f-4804-96e5-32a9df6eba07",
   "metadata": {},
   "outputs": [],
   "source": [
    "txt = 'This is not a good time to talk.'\n",
    "\n",
    "txt = word_tokenize(txt)"
   ]
  },
  {
   "cell_type": "code",
   "execution_count": 8,
   "id": "0cf3b229-1cc2-43d0-873e-bb58f7e21dd2",
   "metadata": {},
   "outputs": [],
   "source": [
    "stopword = stopwords.words('english')"
   ]
  },
  {
   "cell_type": "code",
   "execution_count": 14,
   "id": "df3a721e-09d3-4a49-845c-0161ec9cb76c",
   "metadata": {},
   "outputs": [
    {
     "name": "stdout",
     "output_type": "stream",
     "text": [
      "good\n",
      "time\n",
      "talk\n"
     ]
    }
   ],
   "source": [
    "for word in txt:\n",
    "    if ((word.lower() not in stopword) and (len(word) != 1)):\n",
    "        print(word)"
   ]
  },
  {
   "cell_type": "code",
   "execution_count": null,
   "id": "9165cab7-424b-4de5-bde0-0186593c73ff",
   "metadata": {},
   "outputs": [],
   "source": []
  }
 ],
 "metadata": {
  "kernelspec": {
   "display_name": "Python 3 (ipykernel)",
   "language": "python",
   "name": "python3"
  },
  "language_info": {
   "codemirror_mode": {
    "name": "ipython",
    "version": 3
   },
   "file_extension": ".py",
   "mimetype": "text/x-python",
   "name": "python",
   "nbconvert_exporter": "python",
   "pygments_lexer": "ipython3",
   "version": "3.11.8"
  }
 },
 "nbformat": 4,
 "nbformat_minor": 5
}
