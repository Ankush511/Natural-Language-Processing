{
 "cells": [
  {
   "cell_type": "code",
   "execution_count": 1,
   "id": "5dcf0999-9947-4867-bb3d-8b246f904b3c",
   "metadata": {},
   "outputs": [],
   "source": [
    "# one way to import\n",
    "import nlp"
   ]
  },
  {
   "cell_type": "code",
   "execution_count": 2,
   "id": "44cd5c4e-b016-4fc0-8631-6758199418c8",
   "metadata": {},
   "outputs": [
    {
     "data": {
      "text/plain": [
       "'Hello, how are you?'"
      ]
     },
     "execution_count": 2,
     "metadata": {},
     "output_type": "execute_result"
    }
   ],
   "source": [
    "nlp.capitalize('hello, how are you?')"
   ]
  },
  {
   "cell_type": "code",
   "execution_count": 3,
   "id": "024daa9b-edd1-4a9a-bcef-eb06c316ddc1",
   "metadata": {},
   "outputs": [
    {
     "data": {
      "text/plain": [
       "'Hello, How Are You?'"
      ]
     },
     "execution_count": 3,
     "metadata": {},
     "output_type": "execute_result"
    }
   ],
   "source": [
    "nlp.title('hello, how are you?')"
   ]
  },
  {
   "cell_type": "code",
   "execution_count": 4,
   "id": "34b1c597-5cd3-461f-841c-2fc1f35aea26",
   "metadata": {},
   "outputs": [],
   "source": [
    "# another way to import\n",
    "from nlp import isalnum, isalpha, isdigit"
   ]
  },
  {
   "cell_type": "code",
   "execution_count": 5,
   "id": "03a6553e-3875-45d5-91f1-67cf9e8bb053",
   "metadata": {},
   "outputs": [
    {
     "data": {
      "text/plain": [
       "True"
      ]
     },
     "execution_count": 5,
     "metadata": {},
     "output_type": "execute_result"
    }
   ],
   "source": [
    "isalnum('Ankush511')"
   ]
  },
  {
   "cell_type": "code",
   "execution_count": 6,
   "id": "897333f3-2ac9-48c1-b74d-9e731e5ca158",
   "metadata": {},
   "outputs": [
    {
     "data": {
      "text/plain": [
       "True"
      ]
     },
     "execution_count": 6,
     "metadata": {},
     "output_type": "execute_result"
    }
   ],
   "source": [
    "isalpha('Ankush')"
   ]
  },
  {
   "cell_type": "code",
   "execution_count": 7,
   "id": "e0eb4c44-cf6c-4c4c-8c77-bd2657d9fa4b",
   "metadata": {},
   "outputs": [
    {
     "data": {
      "text/plain": [
       "True"
      ]
     },
     "execution_count": 7,
     "metadata": {},
     "output_type": "execute_result"
    }
   ],
   "source": [
    "isdigit('511')"
   ]
  },
  {
   "cell_type": "code",
   "execution_count": null,
   "id": "b07fc263-e6fb-4de7-9a6d-fd99f25c0cb2",
   "metadata": {},
   "outputs": [],
   "source": []
  }
 ],
 "metadata": {
  "kernelspec": {
   "display_name": "Python 3 (ipykernel)",
   "language": "python",
   "name": "python3"
  },
  "language_info": {
   "codemirror_mode": {
    "name": "ipython",
    "version": 3
   },
   "file_extension": ".py",
   "mimetype": "text/x-python",
   "name": "python",
   "nbconvert_exporter": "python",
   "pygments_lexer": "ipython3",
   "version": "3.11.8"
  }
 },
 "nbformat": 4,
 "nbformat_minor": 5
}
