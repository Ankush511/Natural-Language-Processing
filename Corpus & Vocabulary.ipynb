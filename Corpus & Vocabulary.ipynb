{
 "cells": [
  {
   "cell_type": "code",
   "execution_count": 10,
   "id": "1cb0a6f0-4ae0-49a4-90f3-4d0a9d50dbdb",
   "metadata": {},
   "outputs": [
    {
     "data": {
      "text/plain": [
       "'India, officially the Republic of India, is a country in South Asia. It is the seventh-largest country by area, the second-most populous country, and the most populous democracy in the world. Bounded by the Indian Ocean on the south, the Arabian Sea on the southwest, and the Bay of Bengal on the southeast, it shares land borders with Pakistan to the west; China, Nepal, and Bhutan to the north; and Bangladesh and Myanmar to the east. In the Indian Ocean, India is in the vicinity of Sri Lanka and the Maldives; its Andaman and Nicobar Islands share a maritime border with Thailand, Myanmar and Indonesia.'"
      ]
     },
     "execution_count": 10,
     "metadata": {},
     "output_type": "execute_result"
    }
   ],
   "source": [
    "from nltk.tokenize import word_tokenize, sent_tokenize\n",
    "from nltk.corpus import stopwords\n",
    "\n",
    "corpus = 'India, officially the Republic of India, is a country in South Asia. It is the seventh-largest country by area, the second-most populous country, and the most populous democracy in the world. Bounded by the Indian Ocean on the south, the Arabian Sea on the southwest, and the Bay of Bengal on the southeast, it shares land borders with Pakistan to the west; China, Nepal, and Bhutan to the north; and Bangladesh and Myanmar to the east. In the Indian Ocean, India is in the vicinity of Sri Lanka and the Maldives; its Andaman and Nicobar Islands share a maritime border with Thailand, Myanmar and Indonesia.'\n",
    "corpus"
   ]
  },
  {
   "cell_type": "markdown",
   "id": "a97ab4a5-8d20-4865-a2c7-d08bb6fdc920",
   "metadata": {},
   "source": [
    "## Stopwords removal"
   ]
  },
  {
   "cell_type": "code",
   "execution_count": 13,
   "id": "187aef27-6f16-451b-9bf5-a637bede083a",
   "metadata": {
    "scrolled": true
   },
   "outputs": [
    {
     "name": "stdout",
     "output_type": "stream",
     "text": [
      "['India', ',', 'officially', 'Republic', 'India', ',', 'country', 'South', 'Asia', '.', 'seventh-largest', 'country', 'area', ',', 'second-most', 'populous', 'country', ',', 'populous', 'democracy', 'world', '.', 'Bounded', 'Indian', 'Ocean', 'south', ',', 'Arabian', 'Sea', 'southwest', ',', 'Bay', 'Bengal', 'southeast', ',', 'shares', 'land', 'borders', 'Pakistan', 'west', ';', 'China', ',', 'Nepal', ',', 'Bhutan', 'north', ';', 'Bangladesh', 'Myanmar', 'east', '.', 'Indian', 'Ocean', ',', 'India', 'vicinity', 'Sri', 'Lanka', 'Maldives', ';', 'Andaman', 'Nicobar', 'Islands', 'share', 'maritime', 'border', 'Thailand', ',', 'Myanmar', 'Indonesia', '.']\n"
     ]
    }
   ],
   "source": [
    "# Tokenize the corpus\n",
    "tokens = word_tokenize(corpus)\n",
    "\n",
    "# Remove stop words\n",
    "stop_words = set(stopwords.words('english'))\n",
    "filtered_tokens = [word for word in tokens if word.lower() not in stop_words]\n",
    "\n",
    "print(filtered_tokens)"
   ]
  },
  {
   "cell_type": "code",
   "execution_count": 14,
   "id": "1bc68bfe-2258-427c-a92a-4685fb581d18",
   "metadata": {
    "scrolled": true
   },
   "outputs": [
    {
     "name": "stdout",
     "output_type": "stream",
     "text": [
      "['India', 'officially', 'Republic', 'India', 'country', 'South', 'Asia', 'country', 'area', 'populous', 'country', 'populous', 'democracy', 'world', 'Bounded', 'Indian', 'Ocean', 'south', 'Arabian', 'Sea', 'southwest', 'Bay', 'Bengal', 'southeast', 'shares', 'land', 'borders', 'Pakistan', 'west', 'China', 'Nepal', 'Bhutan', 'north', 'Bangladesh', 'Myanmar', 'east', 'Indian', 'Ocean', 'India', 'vicinity', 'Sri', 'Lanka', 'Maldives', 'Andaman', 'Nicobar', 'Islands', 'share', 'maritime', 'border', 'Thailand', 'Myanmar', 'Indonesia']\n"
     ]
    }
   ],
   "source": [
    "filtered_tokens = [word for word in filtered_tokens if word.isalpha()]\n",
    "print(filtered_tokens)"
   ]
  },
  {
   "cell_type": "code",
   "execution_count": 15,
   "id": "078e213e-ecd4-43ce-a2ba-2265e9e88f60",
   "metadata": {},
   "outputs": [
    {
     "name": "stdout",
     "output_type": "stream",
     "text": [
      "Vocabulary Size: 44\n"
     ]
    }
   ],
   "source": [
    "unique_words = set(filtered_tokens)\n",
    "vocab_size = len(unique_words)\n",
    "print(f\"Vocabulary Size: {vocab_size}\")"
   ]
  },
  {
   "cell_type": "markdown",
   "id": "7706fed6-d897-4ca6-9976-a7b29c7d4978",
   "metadata": {},
   "source": [
    "## Encoding the text"
   ]
  },
  {
   "cell_type": "code",
   "execution_count": 16,
   "id": "f34ffcda-eda3-4b8b-8816-5dfb3973d682",
   "metadata": {},
   "outputs": [
    {
     "name": "stdout",
     "output_type": "stream",
     "text": [
      "[38, 42, 2, 38, 40, 27, 12, 40, 19, 35, 40, 35, 18, 32, 29, 37, 36, 14, 28, 24, 16, 4, 15, 30, 3, 13, 44, 5, 21, 6, 41, 31, 8, 26, 9, 34, 37, 36, 38, 23, 10, 17, 1, 22, 43, 25, 33, 39, 7, 11, 9, 20]\n"
     ]
    }
   ],
   "source": [
    "word_to_num = {word: i+1 for i, word in enumerate(unique_words)}\n",
    "encoded_text = [word_to_num[word] for word in filtered_tokens]\n",
    "\n",
    "print(encoded_text)"
   ]
  },
  {
   "cell_type": "code",
   "execution_count": null,
   "id": "f3272ef3-3ea9-40c1-b10f-67d5cc04ea4f",
   "metadata": {},
   "outputs": [],
   "source": []
  }
 ],
 "metadata": {
  "kernelspec": {
   "display_name": "Python 3 (ipykernel)",
   "language": "python",
   "name": "python3"
  },
  "language_info": {
   "codemirror_mode": {
    "name": "ipython",
    "version": 3
   },
   "file_extension": ".py",
   "mimetype": "text/x-python",
   "name": "python",
   "nbconvert_exporter": "python",
   "pygments_lexer": "ipython3",
   "version": "3.11.8"
  }
 },
 "nbformat": 4,
 "nbformat_minor": 5
}
