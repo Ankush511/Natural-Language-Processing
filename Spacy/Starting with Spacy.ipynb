{
 "cells": [
  {
   "cell_type": "code",
   "execution_count": 1,
   "id": "c0a889a5-d4af-449f-9f15-3f7a3218ab6e",
   "metadata": {},
   "outputs": [],
   "source": [
    "import spacy"
   ]
  },
  {
   "cell_type": "code",
   "execution_count": 2,
   "id": "fb30bbb3-f682-47a6-bde2-24cd75bad52b",
   "metadata": {},
   "outputs": [],
   "source": [
    "nlp = spacy.load('en_core_web_lg')"
   ]
  },
  {
   "cell_type": "code",
   "execution_count": 5,
   "id": "f05f7913-a74d-4605-bf36-b96c6095e5c5",
   "metadata": {},
   "outputs": [],
   "source": [
    "text = nlp('Hello my name is Ankush Kashyap')"
   ]
  },
  {
   "cell_type": "markdown",
   "id": "fa96cd7c-10b6-4608-9a70-da22a969392a",
   "metadata": {},
   "source": [
    "## <b/> 1. Tokenization"
   ]
  },
  {
   "cell_type": "code",
   "execution_count": 6,
   "id": "8268e7fb-0f04-46ef-ab5c-884b74ef9f7d",
   "metadata": {},
   "outputs": [
    {
     "name": "stdout",
     "output_type": "stream",
     "text": [
      "Hello\n",
      "my\n",
      "name\n",
      "is\n",
      "Ankush\n",
      "Kashyap\n"
     ]
    }
   ],
   "source": [
    "for token in text:\n",
    "    print(token)"
   ]
  },
  {
   "cell_type": "code",
   "execution_count": 8,
   "id": "f0d49b88-5a4e-42c4-9d7d-03bee6b6d36a",
   "metadata": {},
   "outputs": [
    {
     "name": "stdout",
     "output_type": "stream",
     "text": [
      "The\n",
      "price\n",
      "of\n",
      "Iphone\n",
      "16\n",
      "in\n",
      "U.K\n",
      "is\n",
      "699\n",
      "$\n"
     ]
    }
   ],
   "source": [
    "text = nlp('The price of Iphone 16 in U.K is 699$')\n",
    "\n",
    "for token in text:\n",
    "    print(token.text)"
   ]
  },
  {
   "cell_type": "markdown",
   "id": "a95beb70-0821-4fda-9f05-fac945b5edfa",
   "metadata": {},
   "source": [
    "## <b/>2. Parts of Speech (POS)"
   ]
  },
  {
   "cell_type": "code",
   "execution_count": 9,
   "id": "fd8c07bd-ce01-4920-bc83-d3100531a521",
   "metadata": {},
   "outputs": [
    {
     "name": "stdout",
     "output_type": "stream",
     "text": [
      "The 90\n",
      "price 92\n",
      "of 85\n",
      "Iphone 96\n",
      "16 93\n",
      "in 85\n",
      "U.K 96\n",
      "is 87\n",
      "699 93\n",
      "$ 99\n"
     ]
    }
   ],
   "source": [
    "for token in text:\n",
    "    print(token.text, token.pos)"
   ]
  },
  {
   "cell_type": "code",
   "execution_count": 10,
   "id": "c0d7eaf1-c865-4d2c-a68e-50ae034c63d3",
   "metadata": {},
   "outputs": [
    {
     "name": "stdout",
     "output_type": "stream",
     "text": [
      "The DET\n",
      "price NOUN\n",
      "of ADP\n",
      "Iphone PROPN\n",
      "16 NUM\n",
      "in ADP\n",
      "U.K PROPN\n",
      "is AUX\n",
      "699 NUM\n",
      "$ SYM\n"
     ]
    }
   ],
   "source": [
    "for token in text:\n",
    "    print(token.text, token.pos_)"
   ]
  },
  {
   "cell_type": "markdown",
   "id": "ca2c2da0-bd92-425b-97b8-4452b771f024",
   "metadata": {},
   "source": [
    "## <b/>3. Sentence Tokenization"
   ]
  },
  {
   "cell_type": "code",
   "execution_count": 15,
   "id": "233d36e8-2b91-4a19-8a5a-8ac67bf90499",
   "metadata": {},
   "outputs": [
    {
     "name": "stdout",
     "output_type": "stream",
     "text": [
      "This is my property.\n",
      "That is your property.\n",
      "That is not our property.\n"
     ]
    }
   ],
   "source": [
    "text = nlp('This is my property. That is your property. That is not our property.')\n",
    "\n",
    "for sent in text.sents:\n",
    "    print(sent)"
   ]
  },
  {
   "cell_type": "code",
   "execution_count": null,
   "id": "7f6e7d3b-fbd2-46f2-979d-804cd7e341d7",
   "metadata": {},
   "outputs": [],
   "source": []
  }
 ],
 "metadata": {
  "kernelspec": {
   "display_name": "Python 3 (ipykernel)",
   "language": "python",
   "name": "python3"
  },
  "language_info": {
   "codemirror_mode": {
    "name": "ipython",
    "version": 3
   },
   "file_extension": ".py",
   "mimetype": "text/x-python",
   "name": "python",
   "nbconvert_exporter": "python",
   "pygments_lexer": "ipython3",
   "version": "3.11.8"
  }
 },
 "nbformat": 4,
 "nbformat_minor": 5
}
