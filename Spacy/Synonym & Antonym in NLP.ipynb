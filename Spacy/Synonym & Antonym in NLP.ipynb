{
 "cells": [
  {
   "cell_type": "code",
   "execution_count": 6,
   "id": "c1857090-4fa4-44c6-a763-604d33b8a288",
   "metadata": {},
   "outputs": [
    {
     "name": "stderr",
     "output_type": "stream",
     "text": [
      "[nltk_data] Downloading package wordnet to /Users/Ankush/nltk_data...\n",
      "[nltk_data]   Package wordnet is already up-to-date!\n"
     ]
    },
    {
     "data": {
      "text/plain": [
       "True"
      ]
     },
     "execution_count": 6,
     "metadata": {},
     "output_type": "execute_result"
    }
   ],
   "source": [
    "import nltk\n",
    "nltk.download('wordnet')"
   ]
  },
  {
   "cell_type": "code",
   "execution_count": 7,
   "id": "687cdc9e-e0ae-49d5-96b6-9127a6119af3",
   "metadata": {},
   "outputs": [],
   "source": [
    "from nltk.corpus import wordnet"
   ]
  },
  {
   "cell_type": "code",
   "execution_count": 14,
   "id": "dfcebed3-cb46-421e-bf97-7a03671c5953",
   "metadata": {},
   "outputs": [
    {
     "name": "stdout",
     "output_type": "stream",
     "text": [
      "Synset('script.n.01')\n",
      "a written version of a play or other dramatic composition; used in preparing for a performance\n"
     ]
    }
   ],
   "source": [
    "syn = wordnet.synsets('Book')\n",
    "\n",
    "print(syn[3])\n",
    "print(syn[3].definition())"
   ]
  },
  {
   "cell_type": "markdown",
   "id": "08426a87-70a9-40a8-8fc7-54030f478194",
   "metadata": {},
   "source": [
    "## Printing Synonyms"
   ]
  },
  {
   "cell_type": "code",
   "execution_count": 15,
   "id": "c56df687-1ad8-435d-82a0-9ec7098ba866",
   "metadata": {},
   "outputs": [
    {
     "name": "stdout",
     "output_type": "stream",
     "text": [
      "['car', 'auto', 'automobile', 'machine', 'motorcar', 'car', 'railcar', 'railway_car', 'railroad_car', 'car', 'gondola', 'car', 'elevator_car', 'cable_car', 'car']\n"
     ]
    }
   ],
   "source": [
    "synonyms = []\n",
    "\n",
    "for syn in wordnet.synsets('Car'):\n",
    "    for lemma in syn.lemmas():\n",
    "        synonyms.append(lemma.name())\n",
    "\n",
    "print(synonyms)"
   ]
  },
  {
   "cell_type": "markdown",
   "id": "c235eff2-5e5b-4d23-ac6a-5feccf37bb9d",
   "metadata": {},
   "source": [
    "## Printing Antonyms"
   ]
  },
  {
   "cell_type": "code",
   "execution_count": 22,
   "id": "a8c99d1f-63bc-4d0b-ae67-96a46efe967a",
   "metadata": {},
   "outputs": [
    {
     "name": "stdout",
     "output_type": "stream",
     "text": [
      "['evil', 'evilness', 'bad', 'badness', 'bad', 'evil', 'ill']\n"
     ]
    }
   ],
   "source": [
    "antonyms = []\n",
    "\n",
    "for ant in wordnet.synsets('good'):\n",
    "    for lemma in ant.lemmas():\n",
    "        if lemma.antonyms():\n",
    "            antonyms.append(lemma.antonyms()[0].name())\n",
    "\n",
    "print(antonyms)"
   ]
  },
  {
   "cell_type": "code",
   "execution_count": null,
   "id": "3e2d553c-dd87-424c-b821-78559af44c2f",
   "metadata": {},
   "outputs": [],
   "source": []
  }
 ],
 "metadata": {
  "kernelspec": {
   "display_name": "Python 3 (ipykernel)",
   "language": "python",
   "name": "python3"
  },
  "language_info": {
   "codemirror_mode": {
    "name": "ipython",
    "version": 3
   },
   "file_extension": ".py",
   "mimetype": "text/x-python",
   "name": "python",
   "nbconvert_exporter": "python",
   "pygments_lexer": "ipython3",
   "version": "3.11.8"
  }
 },
 "nbformat": 4,
 "nbformat_minor": 5
}
