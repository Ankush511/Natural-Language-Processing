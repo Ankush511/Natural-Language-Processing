{
 "cells": [
  {
   "cell_type": "markdown",
   "id": "051c31a7-b1ef-49e2-88a9-ba22055ad264",
   "metadata": {},
   "source": [
    "## Encoding the Text"
   ]
  },
  {
   "cell_type": "code",
   "execution_count": 5,
   "id": "f507823e-cc8c-494f-874f-1ba6ef7fb632",
   "metadata": {},
   "outputs": [],
   "source": [
    "from tensorflow.keras.preprocessing.text import Tokenizer\n",
    "\n",
    "tok = Tokenizer()"
   ]
  },
  {
   "cell_type": "code",
   "execution_count": 6,
   "id": "6e5912a1-1183-4e9e-ba1d-b9e4a8973c33",
   "metadata": {},
   "outputs": [],
   "source": [
    "corp = ['coffee is hot', 'water is cold']\n",
    "\n",
    "tok.fit_on_texts(corp)"
   ]
  },
  {
   "cell_type": "code",
   "execution_count": 8,
   "id": "860f108a-635b-4957-bab1-284b704b176d",
   "metadata": {},
   "outputs": [
    {
     "data": {
      "text/plain": [
       "{'is': 1, 'coffee': 2, 'hot': 3, 'water': 4, 'cold': 5}"
      ]
     },
     "execution_count": 8,
     "metadata": {},
     "output_type": "execute_result"
    }
   ],
   "source": [
    "tok.word_index"
   ]
  },
  {
   "cell_type": "code",
   "execution_count": 9,
   "id": "ca0bfb86-4716-4dbc-afe6-9b13a83c07c9",
   "metadata": {},
   "outputs": [
    {
     "data": {
      "text/plain": [
       "[[2, 1, 3], [4, 1, 5]]"
      ]
     },
     "execution_count": 9,
     "metadata": {},
     "output_type": "execute_result"
    }
   ],
   "source": [
    "tok.texts_to_sequences(corp)"
   ]
  },
  {
   "cell_type": "markdown",
   "id": "42b38966-facb-4e5b-8f53-b82df5537a9c",
   "metadata": {},
   "source": [
    "## Adding OOV Token"
   ]
  },
  {
   "cell_type": "code",
   "execution_count": 10,
   "id": "e6498e82-cab3-42cf-a40a-fcdfa1f8db1e",
   "metadata": {},
   "outputs": [
    {
     "name": "stdout",
     "output_type": "stream",
     "text": [
      "{'black': 1, 'is': 2, 'coffee': 3, 'hot': 4, 'water': 5, 'cold': 6}\n"
     ]
    },
    {
     "data": {
      "text/plain": [
       "[[1, 3, 2, 4], [5, 2, 6]]"
      ]
     },
     "execution_count": 10,
     "metadata": {},
     "output_type": "execute_result"
    }
   ],
   "source": [
    "from tensorflow.keras.preprocessing.text import Tokenizer\n",
    "\n",
    "tok = Tokenizer(oov_token='black')\n",
    "\n",
    "corp = ['coffee is hot', 'water is cold']\n",
    "tok.fit_on_texts(corp)\n",
    "print(tok.word_index)\n",
    "\n",
    "tok.texts_to_sequences(['black coffee is hot', 'water is cold'])"
   ]
  },
  {
   "cell_type": "markdown",
   "id": "ebe9d5ca-43c0-4154-b718-24e86c9b14f4",
   "metadata": {},
   "source": [
    "## Limiting the number of words"
   ]
  },
  {
   "cell_type": "code",
   "execution_count": 11,
   "id": "0ccb94c8-3544-4241-b899-ef089cc22ab2",
   "metadata": {},
   "outputs": [
    {
     "name": "stdout",
     "output_type": "stream",
     "text": [
      "{'is': 1, 'coffee': 2, 'hot': 3, 'water': 4, 'cold': 5}\n"
     ]
    },
    {
     "data": {
      "text/plain": [
       "[[2, 1, 3], [1]]"
      ]
     },
     "execution_count": 11,
     "metadata": {},
     "output_type": "execute_result"
    }
   ],
   "source": [
    "from tensorflow.keras.preprocessing.text import Tokenizer\n",
    "\n",
    "tok = Tokenizer(num_words=4)\n",
    "\n",
    "corp = ['coffee is hot', 'water is cold']\n",
    "tok.fit_on_texts(corp)\n",
    "print(tok.word_index)\n",
    "\n",
    "tok.texts_to_sequences(['black coffee is hot', 'water is cold'])"
   ]
  },
  {
   "cell_type": "code",
   "execution_count": null,
   "id": "cd0b1a18-e0af-4182-a8d3-bf338d094187",
   "metadata": {},
   "outputs": [],
   "source": []
  }
 ],
 "metadata": {
  "kernelspec": {
   "display_name": "Python 3 (ipykernel)",
   "language": "python",
   "name": "python3"
  },
  "language_info": {
   "codemirror_mode": {
    "name": "ipython",
    "version": 3
   },
   "file_extension": ".py",
   "mimetype": "text/x-python",
   "name": "python",
   "nbconvert_exporter": "python",
   "pygments_lexer": "ipython3",
   "version": "3.11.8"
  }
 },
 "nbformat": 4,
 "nbformat_minor": 5
}
