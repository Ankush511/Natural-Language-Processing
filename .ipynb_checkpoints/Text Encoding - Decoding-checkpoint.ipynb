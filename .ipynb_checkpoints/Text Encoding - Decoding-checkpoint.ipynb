{
 "cells": [
  {
   "cell_type": "code",
   "execution_count": 1,
   "id": "319a74e4-724f-4855-b964-1ec2ca7a98f7",
   "metadata": {},
   "outputs": [],
   "source": [
    "from nltk.tokenize import word_tokenize,sent_tokenize\n",
    "from nltk.corpus import stopwords\n",
    "\n",
    "corpus='''India, officially the Republic of India (Hindi: Bhārat Gaṇarājya),[25] is a country in South Asia. It is the seventh-largest country by area, the second-most populous country, and the most populous democracy in the world. Bounded by the Indian Ocean on the south, the Arabian Sea on the southwest, and the Bay of Bengal on the southeast, it shares land borders with Pakistan to the west;[f] China, Nepal, and Bhutan to the north; and Bangladesh and Myanmar to the east. In the Indian Ocean, India is in the vicinity of Sri Lanka and the Maldives; its Andaman and Nicobar Islands share a maritime border with Thailand, Myanmar, and Indonesia.'''\n",
    "\n",
    "corpus = corpus.replace(\"[25]\" , \"\")    \n",
    "corpus = corpus.replace(\"[f]\" , \"\")   \n",
    "corpus = corpus.replace(\")\" , \"\")"
   ]
  },
  {
   "cell_type": "code",
   "execution_count": 2,
   "id": "8594654e-406e-4b0e-a9e4-edeb4cc5191c",
   "metadata": {},
   "outputs": [
    {
     "name": "stdout",
     "output_type": "stream",
     "text": [
      "['India', ',', 'officially', 'the', 'Republic', 'of', 'India', '(', 'Hindi', ':', 'Bhārat', 'Gaṇarājya', ',', 'is', 'a', 'country', 'in', 'South', 'Asia', '.']\n",
      "['It', 'is', 'the', 'seventh-largest', 'country', 'by', 'area', ',', 'the', 'second-most', 'populous', 'country', ',', 'and', 'the', 'most', 'populous', 'democracy', 'in', 'the', 'world', '.']\n",
      "['Bounded', 'by', 'the', 'Indian', 'Ocean', 'on', 'the', 'south', ',', 'the', 'Arabian', 'Sea', 'on', 'the', 'southwest', ',', 'and', 'the', 'Bay', 'of', 'Bengal', 'on', 'the', 'southeast', ',', 'it', 'shares', 'land', 'borders', 'with', 'Pakistan', 'to', 'the', 'west', ';', 'China', ',', 'Nepal', ',', 'and', 'Bhutan', 'to', 'the', 'north', ';', 'and', 'Bangladesh', 'and', 'Myanmar', 'to', 'the', 'east', '.']\n",
      "['In', 'the', 'Indian', 'Ocean', ',', 'India', 'is', 'in', 'the', 'vicinity', 'of', 'Sri', 'Lanka', 'and', 'the', 'Maldives', ';', 'its', 'Andaman', 'and', 'Nicobar', 'Islands', 'share', 'a', 'maritime', 'border', 'with', 'Thailand', ',', 'Myanmar', ',', 'and', 'Indonesia', '.']\n"
     ]
    }
   ],
   "source": [
    "for sent in sent_tokenize(corpus):\n",
    "    print(word_tokenize(sent))"
   ]
  },
  {
   "cell_type": "code",
   "execution_count": 3,
   "id": "b30da2cb-a4a5-4015-9fb5-8d579928bdbd",
   "metadata": {},
   "outputs": [
    {
     "name": "stdout",
     "output_type": "stream",
     "text": [
      "India officially Republic India Hindi Bhārat Gaṇarājya country South Asia \n",
      "seventh-largest country area second-most populous country populous democracy world \n",
      "Bounded Indian Ocean south Arabian Sea southwest Bay Bengal southeast shares land borders Pakistan west China Nepal Bhutan north Bangladesh Myanmar east \n",
      "Indian Ocean India vicinity Sri Lanka Maldives Andaman Nicobar Islands share maritime border Thailand Myanmar Indonesia \n"
     ]
    }
   ],
   "source": [
    "# Remove Stop Words\n",
    "for sent in sent_tokenize(corpus):\n",
    "    for word in word_tokenize(sent):\n",
    "        if (word.lower() not in stopwords.words('english')) and (len(word)>=2):\n",
    "            print(word,end=' ')\n",
    "    print()"
   ]
  },
  {
   "cell_type": "code",
   "execution_count": 4,
   "id": "92d84820-f2f2-424e-b510-978b7515f27c",
   "metadata": {},
   "outputs": [],
   "source": [
    "words=[]\n",
    "for word in word_tokenize(corpus):\n",
    "    if (word.lower() not in stopwords.words('english')) and (len(word)>=2):\n",
    "        words.append(word.lower())\n",
    "\n",
    "vocab=list(set(words))\n",
    "len(vocab)\n",
    "\n",
    "num=1\n",
    "word_to_num={}\n",
    "num_to_word={}\n",
    "for word in vocab:\n",
    "    word_to_num[word]=num\n",
    "    num_to_word[num]=word\n",
    "    num+=1"
   ]
  },
  {
   "cell_type": "code",
   "execution_count": 5,
   "id": "196be279-59af-403d-b697-715829c3df0e",
   "metadata": {},
   "outputs": [
    {
     "name": "stdout",
     "output_type": "stream",
     "text": [
      "India 36 officially 4 Republic 19 India 36 Hindi 14 Bhārat 39 Gaṇarājya 8 country 6 South 26 Asia 20 \n",
      "seventh-largest 27 country 6 area 29 second-most 30 populous 3 country 6 populous 3 democracy 40 world 12 \n",
      "Bounded 21 Indian 16 Ocean 15 south 26 Arabian 48 Sea 5 southwest 35 Bay 32 Bengal 31 southeast 34 shares 46 land 11 borders 1 Pakistan 28 west 41 China 2 Nepal 7 Bhutan 38 north 37 Bangladesh 10 Myanmar 24 east 22 \n",
      "Indian 16 Ocean 15 India 36 vicinity 45 Sri 17 Lanka 23 Maldives 42 Andaman 47 Nicobar 43 Islands 9 share 44 maritime 33 border 25 Thailand 13 Myanmar 24 Indonesia 18 \n"
     ]
    }
   ],
   "source": [
    "for sent in sent_tokenize(corpus):\n",
    "    for word in word_tokenize(sent):\n",
    "        if (word.lower() not in stopwords.words('english')) and (len(word)>=2):\n",
    "            print(word,end=' ')\n",
    "            print(word_to_num[word.lower()],end=' ')\n",
    "    print()"
   ]
  },
  {
   "cell_type": "markdown",
   "id": "f773b4d7-486f-4a41-8c57-cadf412b9546",
   "metadata": {},
   "source": [
    "## <b/> Encoding"
   ]
  },
  {
   "cell_type": "code",
   "execution_count": 6,
   "id": "f207a61d-f40d-4864-9a70-fe1d0e7cb586",
   "metadata": {},
   "outputs": [
    {
     "name": "stdout",
     "output_type": "stream",
     "text": [
      "[36, 4, 19, 36, 14, 39, 8, 6, 26, 20]\n",
      "\n",
      "[27, 6, 29, 30, 3, 6, 3, 40, 12]\n",
      "\n",
      "[21, 16, 15, 26, 48, 5, 35, 32, 31, 34, 46, 11, 1, 28, 41, 2, 7, 38, 37, 10, 24, 22]\n",
      "\n",
      "[16, 15, 36, 45, 17, 23, 42, 47, 43, 9, 44, 33, 25, 13, 24, 18]\n",
      "\n"
     ]
    }
   ],
   "source": [
    "data=[]\n",
    "for sent in sent_tokenize(corpus):\n",
    "    temp=[]\n",
    "    for word in word_tokenize(sent):\n",
    "        if (word.lower() not in stopwords.words('english')) and (len(word)>=2):\n",
    "            #print(word,end=' ')\n",
    "            temp.append(word_to_num[word.lower()])\n",
    "    print(temp)\n",
    "    data.append(temp)\n",
    "    print()"
   ]
  },
  {
   "cell_type": "markdown",
   "id": "0c96908d-eed8-43f7-bdb5-4765440ebc55",
   "metadata": {},
   "source": [
    "## <b/> Decoding"
   ]
  },
  {
   "cell_type": "code",
   "execution_count": 7,
   "id": "f47242c5-3ba8-4a11-bdeb-ff7d6a839af9",
   "metadata": {},
   "outputs": [
    {
     "name": "stdout",
     "output_type": "stream",
     "text": [
      "[36, 4, 19, 36, 14, 39, 8, 6, 26, 20]\n",
      "[27, 6, 29, 30, 3, 6, 3, 40, 12]\n",
      "[21, 16, 15, 26, 48, 5, 35, 32, 31, 34, 46, 11, 1, 28, 41, 2, 7, 38, 37, 10, 24, 22]\n",
      "[16, 15, 36, 45, 17, 23, 42, 47, 43, 9, 44, 33, 25, 13, 24, 18]\n"
     ]
    }
   ],
   "source": [
    "for sent in data:\n",
    "    print(sent)"
   ]
  },
  {
   "cell_type": "code",
   "execution_count": 8,
   "id": "52d2862b-4183-47df-9621-e322e85d944f",
   "metadata": {},
   "outputs": [
    {
     "name": "stdout",
     "output_type": "stream",
     "text": [
      "india officially republic india hindi bhārat gaṇarājya country south asia \n",
      "seventh-largest country area second-most populous country populous democracy world \n",
      "bounded indian ocean south arabian sea southwest bay bengal southeast shares land borders pakistan west china nepal bhutan north bangladesh myanmar east \n",
      "indian ocean india vicinity sri lanka maldives andaman nicobar islands share maritime border thailand myanmar indonesia \n"
     ]
    }
   ],
   "source": [
    "for sent in data:\n",
    "    for word in sent:\n",
    "        print(num_to_word[word],end=' ')\n",
    "    print()"
   ]
  },
  {
   "cell_type": "markdown",
   "id": "46ff7f20-3c9e-462f-af0b-115cbe91b23c",
   "metadata": {},
   "source": [
    "## <b/> Encoding - Decoding Without Stop Words"
   ]
  },
  {
   "cell_type": "code",
   "execution_count": 10,
   "id": "9fdafb04-b317-49a1-ba70-f87e6e5d1491",
   "metadata": {},
   "outputs": [],
   "source": [
    "words=[]\n",
    "for word in word_tokenize(corpus):\n",
    "    if(len(word)==1):\n",
    "        if((ord(word)>=97 and ord(word)<=122) or (ord(word)>=65 and ord(word)<=90)):\n",
    "            words.append(word.lower())\n",
    "    else:\n",
    "        words.append(word.lower())"
   ]
  },
  {
   "cell_type": "code",
   "execution_count": 11,
   "id": "e15002c3-922e-479e-b27d-aa2e7c15af73",
   "metadata": {},
   "outputs": [
    {
     "data": {
      "text/plain": [
       "61"
      ]
     },
     "execution_count": 11,
     "metadata": {},
     "output_type": "execute_result"
    }
   ],
   "source": [
    "vocab=list(set(words))\n",
    "len(vocab)"
   ]
  },
  {
   "cell_type": "code",
   "execution_count": 12,
   "id": "cd604351-937e-4f14-afb3-636c20dd6a1d",
   "metadata": {},
   "outputs": [],
   "source": [
    "num=1\n",
    "word_to_num={}\n",
    "num_to_word={}\n",
    "for word in vocab:\n",
    "    word_to_num[word]=num\n",
    "    num_to_word[num]=word\n",
    "    num+=1"
   ]
  },
  {
   "cell_type": "markdown",
   "id": "9a6a3e10-0730-4847-8167-31bd714c3d5b",
   "metadata": {},
   "source": [
    "### <b/> Encoding"
   ]
  },
  {
   "cell_type": "code",
   "execution_count": 13,
   "id": "a63ca688-12c8-4607-a94e-f4488cb24255",
   "metadata": {},
   "outputs": [
    {
     "name": "stdout",
     "output_type": "stream",
     "text": [
      "[[47, 4, 46, 25, 10, 47, 17, 50, 9, 20, 33, 6, 16, 34, 27], [18, 20, 46, 35, 6, 45, 38, 46, 39, 3, 6, 52, 46, 26, 3, 51, 16, 46, 14], [28, 45, 46, 21, 19, 7, 46, 34, 46, 61, 5, 7, 46, 44, 52, 46, 41, 10, 40, 7, 46, 43, 18, 59, 13, 1, 58, 36, 37, 46, 53, 2, 8, 52, 49, 37, 46, 48, 52, 12, 52, 31, 37, 46, 29], [16, 46, 21, 19, 47, 20, 16, 46, 57, 10, 22, 30, 52, 46, 54, 23, 60, 52, 55, 11, 56, 33, 42, 32, 58, 15, 31, 52, 24]]\n"
     ]
    }
   ],
   "source": [
    "data=[]\n",
    "for sent in sent_tokenize(corpus):\n",
    "    temp=[]\n",
    "    for word in word_tokenize(sent):\n",
    "        if(len(word)==1):\n",
    "            if((ord(word)>=97 and ord(word)<=122) or (ord(word)>=65 and ord(word)<=90)):\n",
    "                temp.append(word_to_num[word.lower()])\n",
    "        else:\n",
    "            temp.append(word_to_num[word.lower()])\n",
    "    data.append(temp)\n",
    "print(data)"
   ]
  },
  {
   "cell_type": "markdown",
   "id": "59773f81-cf90-4d4d-993c-1978a0c1b72e",
   "metadata": {},
   "source": [
    "### <b/> Decoding"
   ]
  },
  {
   "cell_type": "code",
   "execution_count": 14,
   "id": "75816284-f527-405a-9ca5-9102dd9ef708",
   "metadata": {},
   "outputs": [
    {
     "name": "stdout",
     "output_type": "stream",
     "text": [
      "india officially the republic of india hindi bhārat gaṇarājya is a country in south asia \n",
      "it is the seventh-largest country by area the second-most populous country and the most populous democracy in the world \n",
      "bounded by the indian ocean on the south the arabian sea on the southwest and the bay of bengal on the southeast it shares land borders with pakistan to the west china nepal and bhutan to the north and bangladesh and myanmar to the east \n",
      "in the indian ocean india is in the vicinity of sri lanka and the maldives its andaman and nicobar islands share a maritime border with thailand myanmar and indonesia \n"
     ]
    }
   ],
   "source": [
    "for sent in data:\n",
    "    for word in sent:\n",
    "        print(num_to_word[word],end=' ')\n",
    "    print()"
   ]
  },
  {
   "cell_type": "code",
   "execution_count": null,
   "id": "f6f075dc-e8e3-4dca-bc51-e9a62e9b3064",
   "metadata": {},
   "outputs": [],
   "source": []
  }
 ],
 "metadata": {
  "kernelspec": {
   "display_name": "Python 3 (ipykernel)",
   "language": "python",
   "name": "python3"
  },
  "language_info": {
   "codemirror_mode": {
    "name": "ipython",
    "version": 3
   },
   "file_extension": ".py",
   "mimetype": "text/x-python",
   "name": "python",
   "nbconvert_exporter": "python",
   "pygments_lexer": "ipython3",
   "version": "3.11.8"
  }
 },
 "nbformat": 4,
 "nbformat_minor": 5
}
