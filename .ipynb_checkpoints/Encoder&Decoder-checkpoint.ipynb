{
 "cells": [
  {
   "cell_type": "code",
   "execution_count": 1,
   "id": "cd7415be-b9fe-414b-9f03-71dcc3f3dd14",
   "metadata": {},
   "outputs": [],
   "source": [
    "from nltk.tokenize import word_tokenize,sent_tokenize\n",
    "from nltk.corpus import stopwords"
   ]
  },
  {
   "cell_type": "code",
   "execution_count": 2,
   "id": "7cd52150-f7f4-4143-a95c-3fcf435feffb",
   "metadata": {},
   "outputs": [],
   "source": [
    "corpus='''India, officially the Republic of India (Hindi: Bhārat Gaṇarājya),[25] is a country in South Asia. It is the seventh-largest country by area, the second-most populous country, and the most populous democracy in the world. Bounded by the Indian Ocean on the south, the Arabian Sea on the southwest, and the Bay of Bengal on the southeast, it shares land borders with Pakistan to the west;[f] China, Nepal, and Bhutan to the north; and Bangladesh and Myanmar to the east. In the Indian Ocean, India is in the vicinity of Sri Lanka and the Maldives; its Andaman and Nicobar Islands share a maritime border with Thailand, Myanmar, and Indonesia.'''"
   ]
  },
  {
   "cell_type": "code",
   "execution_count": 3,
   "id": "d3db8a42-c576-42af-a8e7-5518c3aed0ed",
   "metadata": {},
   "outputs": [],
   "source": [
    "corpus = corpus.replace(\"[25]\" , \"\")    \n",
    "corpus = corpus.replace(\"[f]\" , \"\")   \n",
    "corpus = corpus.replace(\")\" , \"\")"
   ]
  },
  {
   "cell_type": "code",
   "execution_count": 4,
   "id": "f7cf1221-68bc-4776-b6c5-eef706b3e46f",
   "metadata": {},
   "outputs": [
    {
     "name": "stdout",
     "output_type": "stream",
     "text": [
      "India, officially the Republic of India (Hindi: Bhārat Gaṇarājya, is a country in South Asia. It is the seventh-largest country by area, the second-most populous country, and the most populous democracy in the world. Bounded by the Indian Ocean on the south, the Arabian Sea on the southwest, and the Bay of Bengal on the southeast, it shares land borders with Pakistan to the west; China, Nepal, and Bhutan to the north; and Bangladesh and Myanmar to the east. In the Indian Ocean, India is in the vicinity of Sri Lanka and the Maldives; its Andaman and Nicobar Islands share a maritime border with Thailand, Myanmar, and Indonesia.\n"
     ]
    }
   ],
   "source": [
    "print(corpus)"
   ]
  },
  {
   "cell_type": "code",
   "execution_count": 5,
   "id": "b9bf6118-7bd3-4ff0-80a9-4eb02a278b58",
   "metadata": {},
   "outputs": [],
   "source": [
    "# Stopwords removal\n",
    "\n",
    "words=[]\n",
    "for word in word_tokenize(corpus):\n",
    "    if (word.lower() not in stopwords.words('english')) and (len(word)>=2):\n",
    "        words.append(word.lower())"
   ]
  },
  {
   "cell_type": "code",
   "execution_count": 6,
   "id": "495ab02c-c914-4a77-adb1-5ff896e16c33",
   "metadata": {},
   "outputs": [
    {
     "data": {
      "text/plain": [
       "48"
      ]
     },
     "execution_count": 6,
     "metadata": {},
     "output_type": "execute_result"
    }
   ],
   "source": [
    "# Creating vocab\n",
    "\n",
    "vocab=list(set(words))\n",
    "len(vocab)"
   ]
  },
  {
   "cell_type": "markdown",
   "id": "172f9ed0-54d3-495c-8141-c911a7855856",
   "metadata": {},
   "source": [
    "## <b/> Creating Encoders and Decoders"
   ]
  },
  {
   "cell_type": "code",
   "execution_count": 7,
   "id": "ec6afd56-f26e-447f-aa24-e8e91903d6d2",
   "metadata": {},
   "outputs": [],
   "source": [
    "num=1\n",
    "word_to_num={}\n",
    "num_to_word={}\n",
    "for word in vocab:\n",
    "    word_to_num[word]=num\n",
    "    num_to_word[num]=word\n",
    "    num+=1"
   ]
  },
  {
   "cell_type": "code",
   "execution_count": 8,
   "id": "5e1e65e1-8c0d-45bc-a786-645197925d8e",
   "metadata": {},
   "outputs": [
    {
     "data": {
      "text/plain": [
       "{'west': 1,\n",
       " 'officially': 2,\n",
       " 'myanmar': 3,\n",
       " 'border': 4,\n",
       " 'shares': 5,\n",
       " 'second-most': 6,\n",
       " 'china': 7,\n",
       " 'sea': 8,\n",
       " 'east': 9,\n",
       " 'hindi': 10,\n",
       " 'bangladesh': 11,\n",
       " 'country': 12,\n",
       " 'andaman': 13,\n",
       " 'bay': 14,\n",
       " 'bounded': 15,\n",
       " 'land': 16,\n",
       " 'democracy': 17,\n",
       " 'maldives': 18,\n",
       " 'seventh-largest': 19,\n",
       " 'lanka': 20,\n",
       " 'republic': 21,\n",
       " 'bhutan': 22,\n",
       " 'north': 23,\n",
       " 'southeast': 24,\n",
       " 'vicinity': 25,\n",
       " 'bhārat': 26,\n",
       " 'share': 27,\n",
       " 'southwest': 28,\n",
       " 'maritime': 29,\n",
       " 'india': 30,\n",
       " 'asia': 31,\n",
       " 'indian': 32,\n",
       " 'ocean': 33,\n",
       " 'borders': 34,\n",
       " 'world': 35,\n",
       " 'pakistan': 36,\n",
       " 'nepal': 37,\n",
       " 'islands': 38,\n",
       " 'nicobar': 39,\n",
       " 'arabian': 40,\n",
       " 'area': 41,\n",
       " 'bengal': 42,\n",
       " 'gaṇarājya': 43,\n",
       " 'thailand': 44,\n",
       " 'indonesia': 45,\n",
       " 'populous': 46,\n",
       " 'sri': 47,\n",
       " 'south': 48}"
      ]
     },
     "execution_count": 8,
     "metadata": {},
     "output_type": "execute_result"
    }
   ],
   "source": [
    "word_to_num"
   ]
  },
  {
   "cell_type": "code",
   "execution_count": 9,
   "id": "b12d9a0e-5d73-45b8-a4cb-2d97a949006b",
   "metadata": {},
   "outputs": [
    {
     "data": {
      "text/plain": [
       "35"
      ]
     },
     "execution_count": 9,
     "metadata": {},
     "output_type": "execute_result"
    }
   ],
   "source": [
    "word_to_num['world']"
   ]
  },
  {
   "cell_type": "code",
   "execution_count": 10,
   "id": "d3f78220-3953-4232-bc74-49fd2d5513ec",
   "metadata": {},
   "outputs": [
    {
     "data": {
      "text/plain": [
       "'southeast'"
      ]
     },
     "execution_count": 10,
     "metadata": {},
     "output_type": "execute_result"
    }
   ],
   "source": [
    "num_to_word[24]"
   ]
  },
  {
   "cell_type": "code",
   "execution_count": 11,
   "id": "8de55be2-1a60-485d-947d-d9b20d1d34c9",
   "metadata": {},
   "outputs": [
    {
     "data": {
      "text/plain": [
       "['India',\n",
       " ',',\n",
       " 'officially',\n",
       " 'the',\n",
       " 'Republic',\n",
       " 'of',\n",
       " 'India',\n",
       " '(',\n",
       " 'Hindi',\n",
       " ':',\n",
       " 'Bhārat',\n",
       " 'Gaṇarājya',\n",
       " ',',\n",
       " 'is',\n",
       " 'a',\n",
       " 'country',\n",
       " 'in',\n",
       " 'South',\n",
       " 'Asia',\n",
       " '.']"
      ]
     },
     "execution_count": 11,
     "metadata": {},
     "output_type": "execute_result"
    }
   ],
   "source": [
    "word_tokenize(sent_tokenize(corpus)[0])"
   ]
  },
  {
   "cell_type": "code",
   "execution_count": 12,
   "id": "e1fcd31a-539a-41bd-9a6a-cb6cb0d0d7d6",
   "metadata": {},
   "outputs": [
    {
     "data": {
      "text/plain": [
       "'India , officially the Republic of India ( Hindi : Bhārat Gaṇarājya , is a country in South Asia .'"
      ]
     },
     "execution_count": 12,
     "metadata": {},
     "output_type": "execute_result"
    }
   ],
   "source": [
    "s = ' '.join(word_tokenize(sent_tokenize(corpus)[0]))\n",
    "s"
   ]
  },
  {
   "cell_type": "code",
   "execution_count": 13,
   "id": "82b9c045-3ed4-4164-9857-2d00a63693d1",
   "metadata": {},
   "outputs": [
    {
     "data": {
      "text/plain": [
       "{1: 'west',\n",
       " 2: 'officially',\n",
       " 3: 'myanmar',\n",
       " 4: 'border',\n",
       " 5: 'shares',\n",
       " 6: 'second-most',\n",
       " 7: 'china',\n",
       " 8: 'sea',\n",
       " 9: 'east',\n",
       " 10: 'hindi',\n",
       " 11: 'bangladesh',\n",
       " 12: 'country',\n",
       " 13: 'andaman',\n",
       " 14: 'bay',\n",
       " 15: 'bounded',\n",
       " 16: 'land',\n",
       " 17: 'democracy',\n",
       " 18: 'maldives',\n",
       " 19: 'seventh-largest',\n",
       " 20: 'lanka',\n",
       " 21: 'republic',\n",
       " 22: 'bhutan',\n",
       " 23: 'north',\n",
       " 24: 'southeast',\n",
       " 25: 'vicinity',\n",
       " 26: 'bhārat',\n",
       " 27: 'share',\n",
       " 28: 'southwest',\n",
       " 29: 'maritime',\n",
       " 30: 'india',\n",
       " 31: 'asia',\n",
       " 32: 'indian',\n",
       " 33: 'ocean',\n",
       " 34: 'borders',\n",
       " 35: 'world',\n",
       " 36: 'pakistan',\n",
       " 37: 'nepal',\n",
       " 38: 'islands',\n",
       " 39: 'nicobar',\n",
       " 40: 'arabian',\n",
       " 41: 'area',\n",
       " 42: 'bengal',\n",
       " 43: 'gaṇarājya',\n",
       " 44: 'thailand',\n",
       " 45: 'indonesia',\n",
       " 46: 'populous',\n",
       " 47: 'sri',\n",
       " 48: 'south'}"
      ]
     },
     "execution_count": 13,
     "metadata": {},
     "output_type": "execute_result"
    }
   ],
   "source": [
    "num_to_word"
   ]
  },
  {
   "cell_type": "code",
   "execution_count": null,
   "id": "73003f21-328b-4dc4-9c10-dff94148e9ee",
   "metadata": {},
   "outputs": [],
   "source": []
  }
 ],
 "metadata": {
  "kernelspec": {
   "display_name": "Python 3 (ipykernel)",
   "language": "python",
   "name": "python3"
  },
  "language_info": {
   "codemirror_mode": {
    "name": "ipython",
    "version": 3
   },
   "file_extension": ".py",
   "mimetype": "text/x-python",
   "name": "python",
   "nbconvert_exporter": "python",
   "pygments_lexer": "ipython3",
   "version": "3.11.8"
  }
 },
 "nbformat": 4,
 "nbformat_minor": 5
}
