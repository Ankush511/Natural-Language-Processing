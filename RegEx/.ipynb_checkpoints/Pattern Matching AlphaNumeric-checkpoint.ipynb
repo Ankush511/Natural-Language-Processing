{
 "cells": [
  {
   "cell_type": "code",
   "execution_count": 1,
   "id": "047313d6-6320-476d-8760-50679593c72b",
   "metadata": {},
   "outputs": [],
   "source": [
    "import re"
   ]
  },
  {
   "cell_type": "markdown",
   "id": "363d671d-f426-4f5f-be0a-342bdbe4ba6d",
   "metadata": {},
   "source": [
    "## <b/> 1. Pattern with specific ending"
   ]
  },
  {
   "cell_type": "code",
   "execution_count": 2,
   "id": "53f03cc9-d206-45ed-aea4-98188e703a5f",
   "metadata": {},
   "outputs": [
    {
     "data": {
      "text/plain": [
       "['at', 'at', 'at', 'at', 'at']"
      ]
     },
     "execution_count": 2,
     "metadata": {},
     "output_type": "execute_result"
    }
   ],
   "source": [
    "re.findall('at', 'the rat sat on a mat, and it was attacked by a cat')"
   ]
  },
  {
   "cell_type": "code",
   "execution_count": 3,
   "id": "696b65c4-2808-4288-b8d9-950a38d69e5f",
   "metadata": {},
   "outputs": [
    {
     "data": {
      "text/plain": [
       "['rat', 'sat', 'mat', ' at', 'cat']"
      ]
     },
     "execution_count": 3,
     "metadata": {},
     "output_type": "execute_result"
    }
   ],
   "source": [
    "re.findall('.at', 'the rat sat on a mat, and it was attacked by a cat')"
   ]
  },
  {
   "cell_type": "code",
   "execution_count": 4,
   "id": "56dcfcbf-26cd-429d-a71d-ec02d670c36c",
   "metadata": {},
   "outputs": [
    {
     "data": {
      "text/plain": [
       "['4', '2', '3']"
      ]
     },
     "execution_count": 4,
     "metadata": {},
     "output_type": "execute_result"
    }
   ],
   "source": [
    "re.findall('\\d', '4 is divisible by 2 and not by 3')"
   ]
  },
  {
   "cell_type": "code",
   "execution_count": null,
   "id": "852cad24-f026-4555-b7bb-2b33698ad983",
   "metadata": {},
   "outputs": [],
   "source": []
  }
 ],
 "metadata": {
  "kernelspec": {
   "display_name": "Python 3 (ipykernel)",
   "language": "python",
   "name": "python3"
  },
  "language_info": {
   "codemirror_mode": {
    "name": "ipython",
    "version": 3
   },
   "file_extension": ".py",
   "mimetype": "text/x-python",
   "name": "python",
   "nbconvert_exporter": "python",
   "pygments_lexer": "ipython3",
   "version": "3.11.8"
  }
 },
 "nbformat": 4,
 "nbformat_minor": 5
}
