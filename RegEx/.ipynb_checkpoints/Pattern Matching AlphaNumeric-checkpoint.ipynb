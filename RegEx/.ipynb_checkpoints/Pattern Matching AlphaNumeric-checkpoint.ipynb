{
 "cells": [
  {
   "cell_type": "code",
   "execution_count": 1,
   "id": "047313d6-6320-476d-8760-50679593c72b",
   "metadata": {},
   "outputs": [],
   "source": [
    "import re"
   ]
  },
  {
   "cell_type": "markdown",
   "id": "363d671d-f426-4f5f-be0a-342bdbe4ba6d",
   "metadata": {},
   "source": [
    "## <b/> 1. Pattern with specific ending"
   ]
  },
  {
   "cell_type": "code",
   "execution_count": 2,
   "id": "53f03cc9-d206-45ed-aea4-98188e703a5f",
   "metadata": {},
   "outputs": [
    {
     "data": {
      "text/plain": [
       "['at', 'at', 'at', 'at', 'at']"
      ]
     },
     "execution_count": 2,
     "metadata": {},
     "output_type": "execute_result"
    }
   ],
   "source": [
    "re.findall('at', 'the rat sat on a mat, and it was attacked by a cat')"
   ]
  },
  {
   "cell_type": "code",
   "execution_count": 3,
   "id": "696b65c4-2808-4288-b8d9-950a38d69e5f",
   "metadata": {},
   "outputs": [
    {
     "data": {
      "text/plain": [
       "['rat', 'sat', 'mat', ' at', 'cat']"
      ]
     },
     "execution_count": 3,
     "metadata": {},
     "output_type": "execute_result"
    }
   ],
   "source": [
    "re.findall('.at', 'the rat sat on a mat, and it was attacked by a cat')"
   ]
  },
  {
   "cell_type": "markdown",
   "id": "fe98431d-51e6-4e24-82b9-a747e3037f1e",
   "metadata": {},
   "source": [
    "## <b/>2. Start and End Pattern matching"
   ]
  },
  {
   "cell_type": "code",
   "execution_count": 4,
   "id": "56dcfcbf-26cd-429d-a71d-ec02d670c36c",
   "metadata": {},
   "outputs": [
    {
     "data": {
      "text/plain": [
       "['4', '2', '3']"
      ]
     },
     "execution_count": 4,
     "metadata": {},
     "output_type": "execute_result"
    }
   ],
   "source": [
    "re.findall('\\d', '4 is divisible by 2 and not by 3')"
   ]
  },
  {
   "cell_type": "code",
   "execution_count": 5,
   "id": "852cad24-f026-4555-b7bb-2b33698ad983",
   "metadata": {},
   "outputs": [
    {
     "data": {
      "text/plain": [
       "['3']"
      ]
     },
     "execution_count": 5,
     "metadata": {},
     "output_type": "execute_result"
    }
   ],
   "source": [
    "re.findall('\\d$', '4 is divisible by 2 and not by 3')"
   ]
  },
  {
   "cell_type": "code",
   "execution_count": 12,
   "id": "5da3d4ac-057a-4e38-8055-22bbf599dc65",
   "metadata": {},
   "outputs": [
    {
     "data": {
      "text/plain": [
       "['4']"
      ]
     },
     "execution_count": 12,
     "metadata": {},
     "output_type": "execute_result"
    }
   ],
   "source": [
    "re.findall('^\\d', '4 is divisible by 2 and not by 3')"
   ]
  },
  {
   "cell_type": "markdown",
   "id": "a0b7fc25-9e56-4eea-9bad-6bd876f4cdb7",
   "metadata": {},
   "source": [
    "## <b/>3. Finding Capital Letters"
   ]
  },
  {
   "cell_type": "code",
   "execution_count": 14,
   "id": "b6caec71-4208-49e6-9c22-805041d5ff7c",
   "metadata": {},
   "outputs": [
    {
     "data": {
      "text/plain": [
       "['T', 'M', 'R']"
      ]
     },
     "execution_count": 14,
     "metadata": {},
     "output_type": "execute_result"
    }
   ],
   "source": [
    "re.findall('[A-Z]', 'The Matrix Reloaded')"
   ]
  },
  {
   "cell_type": "markdown",
   "id": "7483e086-9944-4f4e-b696-922fe5a43d79",
   "metadata": {},
   "source": [
    "## <b/> 4. Finding Small Letters"
   ]
  },
  {
   "cell_type": "code",
   "execution_count": 15,
   "id": "467139e0-55b8-4961-a911-f93c9e527842",
   "metadata": {},
   "outputs": [
    {
     "data": {
      "text/plain": [
       "['h', 'e', 'a', 't', 'r', 'i', 'x', 'e', 'l', 'o', 'a', 'd', 'e', 'd']"
      ]
     },
     "execution_count": 15,
     "metadata": {},
     "output_type": "execute_result"
    }
   ],
   "source": [
    "re.findall('[a-z]', 'The Matrix Reloaded')"
   ]
  },
  {
   "cell_type": "markdown",
   "id": "3e4940e9-bec3-4219-9718-54a459862f1a",
   "metadata": {},
   "source": [
    "## <b/>5. Finding Alphabets (Uppercase & Lowercase)"
   ]
  },
  {
   "cell_type": "code",
   "execution_count": 16,
   "id": "843d7f12-ede8-4fd9-aaa6-fb2df61a2a55",
   "metadata": {},
   "outputs": [
    {
     "data": {
      "text/plain": [
       "['T',\n",
       " 'h',\n",
       " 'e',\n",
       " 'M',\n",
       " 'a',\n",
       " 't',\n",
       " 'r',\n",
       " 'i',\n",
       " 'x',\n",
       " 'R',\n",
       " 'e',\n",
       " 'l',\n",
       " 'o',\n",
       " 'a',\n",
       " 'd',\n",
       " 'e',\n",
       " 'd']"
      ]
     },
     "execution_count": 16,
     "metadata": {},
     "output_type": "execute_result"
    }
   ],
   "source": [
    "re.findall('[A-Za-z]', 'The Matrix Reloaded')"
   ]
  },
  {
   "cell_type": "markdown",
   "id": "a324c6af-5150-404b-9180-c2d1f1c84319",
   "metadata": {},
   "source": [
    "## <b/> 6. Finding Alphabets and Numbers"
   ]
  },
  {
   "cell_type": "code",
   "execution_count": 17,
   "id": "6bcc86c8-00f4-4b0e-bc26-f4f02b965de4",
   "metadata": {},
   "outputs": [
    {
     "data": {
      "text/plain": [
       "['T',\n",
       " 'h',\n",
       " 'e',\n",
       " 'M',\n",
       " 'a',\n",
       " 't',\n",
       " 'r',\n",
       " 'i',\n",
       " 'x',\n",
       " 'R',\n",
       " 'e',\n",
       " 'l',\n",
       " 'o',\n",
       " 'a',\n",
       " 'd',\n",
       " 'e',\n",
       " 'd',\n",
       " '2',\n",
       " '0',\n",
       " '0',\n",
       " '1']"
      ]
     },
     "execution_count": 17,
     "metadata": {},
     "output_type": "execute_result"
    }
   ],
   "source": [
    "re.findall('[A-Za-z0-9]', 'The Matrix Reloaded 2001')"
   ]
  },
  {
   "cell_type": "code",
   "execution_count": null,
   "id": "afb6ef30-92fd-4b13-a07d-2b06bef4e003",
   "metadata": {},
   "outputs": [],
   "source": []
  }
 ],
 "metadata": {
  "kernelspec": {
   "display_name": "Python 3 (ipykernel)",
   "language": "python",
   "name": "python3"
  },
  "language_info": {
   "codemirror_mode": {
    "name": "ipython",
    "version": 3
   },
   "file_extension": ".py",
   "mimetype": "text/x-python",
   "name": "python",
   "nbconvert_exporter": "python",
   "pygments_lexer": "ipython3",
   "version": "3.11.8"
  }
 },
 "nbformat": 4,
 "nbformat_minor": 5
}
