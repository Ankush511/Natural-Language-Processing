{
 "cells": [
  {
   "cell_type": "code",
   "execution_count": 1,
   "id": "621a5ed5-5e07-45c6-99b0-650cabba11ae",
   "metadata": {},
   "outputs": [],
   "source": [
    "import re"
   ]
  },
  {
   "cell_type": "markdown",
   "id": "5aa928fa-33cd-4def-980b-a20b1df6ef90",
   "metadata": {},
   "source": [
    "## <b/> 1. Search"
   ]
  },
  {
   "cell_type": "code",
   "execution_count": 3,
   "id": "8ff813d7-0cb8-48ca-9403-159939e57ca2",
   "metadata": {},
   "outputs": [],
   "source": [
    "srch = re.search('you', 'Hello how are you?')"
   ]
  },
  {
   "cell_type": "code",
   "execution_count": 4,
   "id": "2a24f516-203b-4142-a22b-daa11cd09540",
   "metadata": {},
   "outputs": [
    {
     "data": {
      "text/plain": [
       "(14, 17)"
      ]
     },
     "execution_count": 4,
     "metadata": {},
     "output_type": "execute_result"
    }
   ],
   "source": [
    "srch.span()"
   ]
  },
  {
   "cell_type": "code",
   "execution_count": 5,
   "id": "e568353a-96f4-4b1d-8b2d-3e6c683ba5a6",
   "metadata": {},
   "outputs": [
    {
     "data": {
      "text/plain": [
       "14"
      ]
     },
     "execution_count": 5,
     "metadata": {},
     "output_type": "execute_result"
    }
   ],
   "source": [
    "srch.start()"
   ]
  },
  {
   "cell_type": "code",
   "execution_count": 6,
   "id": "4733a4e3-f1bc-4e39-8685-437ca87aad71",
   "metadata": {},
   "outputs": [
    {
     "data": {
      "text/plain": [
       "17"
      ]
     },
     "execution_count": 6,
     "metadata": {},
     "output_type": "execute_result"
    }
   ],
   "source": [
    "srch.end()"
   ]
  },
  {
   "cell_type": "code",
   "execution_count": 7,
   "id": "1978de36-78d7-4d1a-8835-3d933dfc8ac4",
   "metadata": {},
   "outputs": [
    {
     "data": {
      "text/plain": [
       "(11, 14)"
      ]
     },
     "execution_count": 7,
     "metadata": {},
     "output_type": "execute_result"
    }
   ],
   "source": [
    "a = 'Hello, how are you?'\n",
    "b = 'are'\n",
    "\n",
    "srch = re.search(b,a)\n",
    "srch.span()"
   ]
  },
  {
   "cell_type": "markdown",
   "id": "cec905a4-f305-4f72-88bc-be0e542ae27b",
   "metadata": {},
   "source": [
    "## <b/>2. FindAll"
   ]
  },
  {
   "cell_type": "code",
   "execution_count": 10,
   "id": "240424b9-f891-4cfb-94d2-2a3ff48d622d",
   "metadata": {},
   "outputs": [
    {
     "data": {
      "text/plain": [
       "3"
      ]
     },
     "execution_count": 10,
     "metadata": {},
     "output_type": "execute_result"
    }
   ],
   "source": [
    "a = 'Hello, how are are are you?'\n",
    "b = 'are'\n",
    "\n",
    "len(re.findall(b,a))"
   ]
  },
  {
   "cell_type": "markdown",
   "id": "0bf5a398-8c6b-4518-87ac-2c225cdc5428",
   "metadata": {},
   "source": [
    "## <b/>3. FindIter"
   ]
  },
  {
   "cell_type": "code",
   "execution_count": 11,
   "id": "1965cf4f-6aab-4ccb-9c4c-3d2ee7fa0f9b",
   "metadata": {},
   "outputs": [
    {
     "name": "stdout",
     "output_type": "stream",
     "text": [
      "(11, 14)\n",
      "(15, 18)\n",
      "(20, 23)\n"
     ]
    }
   ],
   "source": [
    "for s in re.finditer('are','Hello, how are area are you?'):\n",
    "    print(s.span())"
   ]
  },
  {
   "cell_type": "markdown",
   "id": "abdf4b51-2481-48e4-ab24-c67fa1082c9d",
   "metadata": {},
   "source": [
    "## <b/> Create Regular Expressions"
   ]
  },
  {
   "cell_type": "code",
   "execution_count": 12,
   "id": "3e56293f-fdb2-4d1f-b8c6-d9a6f13cec6b",
   "metadata": {},
   "outputs": [
    {
     "data": {
      "text/plain": [
       "<re.Match object; span=(23, 33), match='9876543210'>"
      ]
     },
     "execution_count": 12,
     "metadata": {},
     "output_type": "execute_result"
    }
   ],
   "source": [
    "txt = \"My telephone number is 9876543210\"\n",
    "\n",
    "pattern = '\\d\\d\\d\\d\\d\\d\\d\\d\\d\\d'\n",
    "\n",
    "re.search(pattern, txt)"
   ]
  },
  {
   "cell_type": "code",
   "execution_count": 13,
   "id": "abeb4d57-1cdb-45b9-9f5e-b5f5cb3098e3",
   "metadata": {},
   "outputs": [
    {
     "data": {
      "text/plain": [
       "<re.Match object; span=(23, 35), match='987-6543-210'>"
      ]
     },
     "execution_count": 13,
     "metadata": {},
     "output_type": "execute_result"
    }
   ],
   "source": [
    "txt = \"My telephone number is 987-6543-210\"\n",
    "\n",
    "pattern = '\\d\\d\\d-\\d\\d\\d\\d-\\d\\d\\d'\n",
    "\n",
    "re.search(pattern, txt)"
   ]
  },
  {
   "cell_type": "code",
   "execution_count": 15,
   "id": "b19b5c7f-efea-46f6-89c8-d5ef6fe21bf5",
   "metadata": {},
   "outputs": [
    {
     "data": {
      "text/plain": [
       "'987-6543-210'"
      ]
     },
     "execution_count": 15,
     "metadata": {},
     "output_type": "execute_result"
    }
   ],
   "source": [
    "txt = \"My telephone number is 987-6543-210\"\n",
    "\n",
    "pattern = '\\d{3}-\\d{4}-\\d{3}'\n",
    "\n",
    "re.search(pattern, txt).group()"
   ]
  },
  {
   "cell_type": "code",
   "execution_count": null,
   "id": "ea612891-9432-4d39-bef4-986aa5e0deba",
   "metadata": {},
   "outputs": [],
   "source": []
  }
 ],
 "metadata": {
  "kernelspec": {
   "display_name": "Python 3 (ipykernel)",
   "language": "python",
   "name": "python3"
  },
  "language_info": {
   "codemirror_mode": {
    "name": "ipython",
    "version": 3
   },
   "file_extension": ".py",
   "mimetype": "text/x-python",
   "name": "python",
   "nbconvert_exporter": "python",
   "pygments_lexer": "ipython3",
   "version": "3.11.8"
  }
 },
 "nbformat": 4,
 "nbformat_minor": 5
}
