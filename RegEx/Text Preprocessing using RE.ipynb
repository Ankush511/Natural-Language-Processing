{
 "cells": [
  {
   "cell_type": "code",
   "execution_count": 1,
   "id": "a845d9ab-9db6-457a-bc78-352db68e610c",
   "metadata": {},
   "outputs": [],
   "source": [
    "import re"
   ]
  },
  {
   "cell_type": "markdown",
   "id": "fcf44fc0-e167-4bd0-8c93-19bcd6a4d28d",
   "metadata": {},
   "source": [
    "## <b/>1. Remove Special Characters"
   ]
  },
  {
   "cell_type": "code",
   "execution_count": 2,
   "id": "6108a1f3-419b-440d-b8d8-2930adb63dfa",
   "metadata": {},
   "outputs": [],
   "source": [
    "txt = 'Ankush is happy! But why he is not playing?'"
   ]
  },
  {
   "cell_type": "code",
   "execution_count": 7,
   "id": "d07b2290-bffa-443c-a8c2-2fa69cf67290",
   "metadata": {},
   "outputs": [
    {
     "data": {
      "text/plain": [
       "'Ankush is happy But why he is not playing'"
      ]
     },
     "execution_count": 7,
     "metadata": {},
     "output_type": "execute_result"
    }
   ],
   "source": [
    "''.join(re.findall('[^!@#$%&*(),?><-]+', txt))"
   ]
  },
  {
   "cell_type": "markdown",
   "id": "e50a4afc-64da-4e0c-a772-f01b816f0bb8",
   "metadata": {},
   "source": [
    "## <b/> 2. Exclusion"
   ]
  },
  {
   "cell_type": "code",
   "execution_count": 15,
   "id": "95b5597d-85e3-4b2f-837d-7f4499132076",
   "metadata": {},
   "outputs": [
    {
     "data": {
      "text/plain": [
       "['21']"
      ]
     },
     "execution_count": 15,
     "metadata": {},
     "output_type": "execute_result"
    }
   ],
   "source": [
    "txt = 'I am Ankush and my age is 21'\n",
    "\n",
    "re.findall('\\d\\d', txt)"
   ]
  },
  {
   "cell_type": "code",
   "execution_count": 16,
   "id": "62d80d47-7633-4f30-917d-66a14c8cab69",
   "metadata": {},
   "outputs": [
    {
     "data": {
      "text/plain": [
       "'I am Ankush and my age is '"
      ]
     },
     "execution_count": 16,
     "metadata": {},
     "output_type": "execute_result"
    }
   ],
   "source": [
    "## But Exclude digits\n",
    "''.join(re.findall('\\D',txt))"
   ]
  },
  {
   "cell_type": "markdown",
   "id": "88331e74-cea3-490f-bfab-45d922f808a2",
   "metadata": {},
   "source": [
    "## <b/>3 . Finding Patterns in a String"
   ]
  },
  {
   "cell_type": "code",
   "execution_count": 18,
   "id": "3cdff843-40b6-4441-8eee-35a27e866f9e",
   "metadata": {},
   "outputs": [],
   "source": [
    "txt = \"Hello, today I am going to in-n-out and later I'll work-it-out if I have to take some classes from Geeks-for-Geeks.\""
   ]
  },
  {
   "cell_type": "code",
   "execution_count": 20,
   "id": "0bece4e4-900f-41a6-9b1a-9b4b0de50515",
   "metadata": {},
   "outputs": [
    {
     "name": "stdout",
     "output_type": "stream",
     "text": [
      "['work-it-out']\n",
      "['in-n-out']\n",
      "['Geeks-for-Geeks']\n"
     ]
    }
   ],
   "source": [
    "print(re.findall('\\w\\w\\w\\w-\\w\\w-\\w\\w\\w', txt))\n",
    "print(re.findall('\\w\\w-\\w-\\w\\w\\w', txt))\n",
    "print(re.findall('\\w\\w\\w\\w\\w-\\w\\w\\w-\\w\\w\\w\\w\\w', txt))"
   ]
  },
  {
   "cell_type": "code",
   "execution_count": 22,
   "id": "fa24590b-60a3-4209-8501-3870a34417ab",
   "metadata": {},
   "outputs": [
    {
     "name": "stdout",
     "output_type": "stream",
     "text": [
      "['in-n-out', 'work-it-out', 'Geeks-for-Geeks']\n"
     ]
    }
   ],
   "source": [
    "print(re.findall('[\\w]+-[\\w]+-[\\w]+', txt))"
   ]
  },
  {
   "cell_type": "markdown",
   "id": "c6542139-5ba0-475d-9dbe-76c8a9eecd2a",
   "metadata": {},
   "source": [
    "## <b/>4. Phone Number Pattern Matching"
   ]
  },
  {
   "cell_type": "code",
   "execution_count": 26,
   "id": "3e4e6513-3574-4520-9686-bbdba6c15de9",
   "metadata": {},
   "outputs": [
    {
     "name": "stdout",
     "output_type": "stream",
     "text": [
      "6212145321\n",
      "9088429824\n",
      "1242498249\n",
      "2455820927\n",
      "8728249901\n"
     ]
    }
   ],
   "source": [
    "numbers = ['621-2145-321', '908-8429-824', '124-24-98249', '2455-820-927', '872-824-9901']\n",
    "for no in numbers:\n",
    "    print((re.findall('[\\d]+-[\\d]+-[\\d]+' , no)[0]).replace('-',''))"
   ]
  },
  {
   "cell_type": "markdown",
   "id": "3f88ee5d-9abc-48a2-9377-ab699b2ded2a",
   "metadata": {},
   "source": [
    "## <b/>5. Email Pattern Matching"
   ]
  },
  {
   "cell_type": "code",
   "execution_count": 34,
   "id": "57d10be3-b37d-4835-9fc2-f22558b37f82",
   "metadata": {},
   "outputs": [
    {
     "data": {
      "text/plain": [
       "['ankush@mail.com']"
      ]
     },
     "execution_count": 34,
     "metadata": {},
     "output_type": "execute_result"
    }
   ],
   "source": [
    "mail = 'ankush@mail.com'\n",
    "\n",
    "re.findall('[A-Za-z0-9.]+@[\\w]+.[\\w]+', mail)"
   ]
  },
  {
   "cell_type": "code",
   "execution_count": 35,
   "id": "accbdf05-4624-4bca-bc5b-735d0b3a99f6",
   "metadata": {},
   "outputs": [
    {
     "name": "stdout",
     "output_type": "stream",
     "text": [
      "['ankush@gmail.com']\n",
      "['contact.me@mail.in']\n",
      "[]\n",
      "['Kuchbhi124@hotmail.com']\n"
     ]
    }
   ],
   "source": [
    "mails = ['ankush@gmail.com', 'contact.me@mail.in', 'xyz@@mail.in', 'Kuchbhi124@hotmail.com']\n",
    "\n",
    "for mail in mails:\n",
    "    print(re.findall('[A-Za-z0-9.]+@[\\w]+.[\\w]+', mail))"
   ]
  },
  {
   "cell_type": "code",
   "execution_count": null,
   "id": "eb56a7fc-e51e-40c5-8258-e03723ec7986",
   "metadata": {},
   "outputs": [],
   "source": []
  }
 ],
 "metadata": {
  "kernelspec": {
   "display_name": "Python 3 (ipykernel)",
   "language": "python",
   "name": "python3"
  },
  "language_info": {
   "codemirror_mode": {
    "name": "ipython",
    "version": 3
   },
   "file_extension": ".py",
   "mimetype": "text/x-python",
   "name": "python",
   "nbconvert_exporter": "python",
   "pygments_lexer": "ipython3",
   "version": "3.11.8"
  }
 },
 "nbformat": 4,
 "nbformat_minor": 5
}
